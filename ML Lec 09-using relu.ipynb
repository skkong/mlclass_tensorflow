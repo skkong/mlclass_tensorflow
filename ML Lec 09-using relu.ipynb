{
 "cells": [
  {
   "cell_type": "markdown",
   "metadata": {},
   "source": [
    "# Neural Network 2: ReLU and 초기값 정하기 (2006/2007 breakthrough) \n",
    "\n",
    "## 참조 강의: \n",
    "\n",
    "홍콩 과기대 김성훈 교수님의 강의 내용 중 강좌 10번의 실습을 따라해 본다.\n",
    "\n",
    "- [lab10: 딥러닝으로 MNIST 98%이상 해보기](https://youtu.be/ls8jHqRnEQk)\n",
    "\n"
   ]
  },
  {
   "cell_type": "code",
   "execution_count": 1,
   "metadata": {
    "collapsed": false
   },
   "outputs": [
    {
     "name": "stdout",
     "output_type": "stream",
     "text": [
      "Populating the interactive namespace from numpy and matplotlib\n"
     ]
    }
   ],
   "source": [
    "%pylab inline\n",
    "\n",
    "import tensorflow as tf\n",
    "import numpy as np\n",
    "import matplotlib.pyplot as plt\n",
    "\n",
    "\n",
    "# anaconda에 설치된 tensorflow 예제 mnist example에 대한 경로명을 추가한다.\n",
    "import sys\n",
    "sys.path.insert(1, '/root/anaconda2/lib/python2.7/site-packages/tensorflow/examples/tutorials/mnist')\n",
    "\n"
   ]
  },
  {
   "cell_type": "code",
   "execution_count": 2,
   "metadata": {
    "collapsed": false
   },
   "outputs": [
    {
     "name": "stdout",
     "output_type": "stream",
     "text": [
      "Extracting MNIST_data/train-images-idx3-ubyte.gz\n",
      "Extracting MNIST_data/train-labels-idx1-ubyte.gz\n",
      "Extracting MNIST_data/t10k-images-idx3-ubyte.gz\n",
      "Extracting MNIST_data/t10k-labels-idx1-ubyte.gz\n"
     ]
    }
   ],
   "source": [
    "## Part 1: 이미지 데이터 로드\n",
    "# -----------------------------\n",
    "from tensorflow.examples.tutorials.mnist import input_data\n",
    "mnist = input_data.read_data_sets(\"MNIST_data/\", one_hot=True)"
   ]
  },
  {
   "cell_type": "code",
   "execution_count": 3,
   "metadata": {
    "collapsed": false
   },
   "outputs": [
    {
     "name": "stdout",
     "output_type": "stream",
     "text": [
      "[[ 0.  0.  0.  0.  0.  0.  0.  1.  0.  0.]\n",
      " [ 0.  0.  0.  1.  0.  0.  0.  0.  0.  0.]\n",
      " [ 0.  0.  0.  0.  1.  0.  0.  0.  0.  0.]\n",
      " [ 0.  0.  0.  0.  0.  0.  1.  0.  0.  0.]\n",
      " [ 0.  1.  0.  0.  0.  0.  0.  0.  0.  0.]]\n"
     ]
    }
   ],
   "source": [
    "print mnist.train.labels[0:5, :]"
   ]
  },
  {
   "cell_type": "code",
   "execution_count": 4,
   "metadata": {
    "collapsed": true
   },
   "outputs": [],
   "source": [
    "# http://stackoverflow.com/questions/33640581/how-to-do-xavier-initialization-on-tensorflow\n",
    "def xavier_init(n_inputs, n_outputs, uniform=True):\n",
    "  \"\"\"Set the parameter initialization using the method described.\n",
    "  This method is designed to keep the scale of the gradients roughly the same\n",
    "  in all layers.\n",
    "  Xavier Glorot and Yoshua Bengio (2010):\n",
    "           Understanding the difficulty of training deep feedforward neural\n",
    "           networks. International conference on artificial intelligence and\n",
    "           statistics.\n",
    "  Args:\n",
    "    n_inputs: The number of input nodes into each output.\n",
    "    n_outputs: The number of output nodes for each input.\n",
    "    uniform: If true use a uniform distribution, otherwise use a normal.\n",
    "  Returns:\n",
    "    An initializer.\n",
    "  \"\"\"\n",
    "  if uniform:\n",
    "    # 6 was used in the paper.\n",
    "    init_range = math.sqrt(6.0 / (n_inputs + n_outputs))\n",
    "    return tf.random_uniform_initializer(-init_range, init_range)\n",
    "  else:\n",
    "    # 3 gives us approximately the same limits as above since this repicks\n",
    "    # values greater than 2 standard deviations from the mean.\n",
    "    stddev = math.sqrt(3.0 / (n_inputs + n_outputs))\n",
    "    return tf.truncated_normal_initializer(stddev=stddev)"
   ]
  },
  {
   "cell_type": "code",
   "execution_count": 5,
   "metadata": {
    "collapsed": false
   },
   "outputs": [],
   "source": [
    "\"\"\"\n",
    "W1 = tf.get_variable(\"W1\", shape=[784, 10], initializer=xavier_init(784, 10)) 에서\n",
    "Did you mean to set reuse=True in VarScope? 오류 발생 시... \n",
    "http://stackoverflow.com/questions/36218823/char-rnn-in-tensorflow 참조\n",
    "\"\"\"\n",
    "tf.reset_default_graph()\n",
    "\n",
    "\n",
    "## Part 2: 변수, 가설함수, cost function 및 gradient descent 정의\n",
    "# ----------------------------------------------------------------\n",
    "# 변수 선언\n",
    "X = tf.placeholder(tf.float32, [None, 784], name=\"inputX\") # bias term 제외, 하나의 이미지는 28x28이다.\n",
    "Y = tf.placeholder(tf.float32, [None, 10], name=\"inputY\") # one-hot encoding 때문에 10개로 선언한다.\n",
    "\n",
    "# 1개의 hidden layer를 갖는 3 layer Neural Network를 정의한다.\n",
    "# 모델의 파라미터 선언\n",
    "\"\"\"\n",
    "W1 = tf.Variable(tf.random_uniform([784, 256], -1.0, 1.0), name=\"Weight1\")\n",
    "W2 = tf.Variable(tf.random_uniform([256, 256], -1.0, 1.0), name=\"Weight2\")\n",
    "W3 = tf.Variable(tf.random_uniform([256, 10], -1.0, 1.0), name=\"Weight3\")\n",
    "\"\"\"\n",
    "\n",
    "\n",
    "# ------------------------------------------------\n",
    "# Xavier 를 이용한 시도\n",
    "# ------------------------------------------------\n",
    "#\"\"\"\n",
    "W1 = tf.get_variable(\"W1\", shape=[784, 256], initializer=xavier_init(784, 256))\n",
    "W2 = tf.get_variable(\"W2\", shape=[256, 256], initializer=xavier_init(256, 256))\n",
    "W3 = tf.get_variable(\"W3\", shape=[256, 256], initializer=xavier_init(256, 256))\n",
    "W4 = tf.get_variable(\"W4\", shape=[256, 256], initializer=xavier_init(256, 256))\n",
    "W5 = tf.get_variable(\"W5\", shape=[256, 10], initializer=xavier_init(256, 10))\n",
    "#\"\"\"\n",
    "\n",
    "b1 = tf.Variable(tf.random_uniform([256], -1.0, 1.0), name=\"Bias1\")\n",
    "b2 = tf.Variable(tf.random_uniform([256], -1.0, 1.0), name=\"Bias2\")\n",
    "b3 = tf.Variable(tf.random_uniform([256], -1.0, 1.0), name=\"Bias3\")\n",
    "b4 = tf.Variable(tf.random_uniform([256], -1.0, 1.0), name=\"Bias3\")\n",
    "b5 = tf.Variable(tf.random_uniform([10], -1.0, 1.0), name=\"Bias3\")\n",
    "\n",
    "\n",
    "learning_rate = tf.Variable(0.003)\n",
    "\n",
    "# ------------------------------------------------\n",
    "# sigmoid 를 이용한 시도\n",
    "# ------------------------------------------------\n",
    "\"\"\"\n",
    "L2 = tf.sigmoid(tf.matmul(X, W1) + b1)\n",
    "L3 = tf.sigmoid(tf.matmul(L2, W2) + b2)\n",
    "hypothesis = tf.sigmoid(tf.matmul(L3, W3) + b3) # 가설함수 정의\n",
    "cost = -tf.reduce_mean(Y*tf.log(hypothesis) + (1-Y)*tf.log(1-hypothesis)) # cost function 정의\n",
    "optimizer = tf.train.GradientDescentOptimizer(learning_rate) # optimize cost\n",
    "train = optimizer.minimize(cost)\n",
    "\"\"\"\n",
    "\n",
    "# ------------------------------------------------\n",
    "# relu 를 이용한 시도\n",
    "# ------------------------------------------------\n",
    "\"\"\"\n",
    "L2 = tf.nn.relu(tf.matmul(X, W1) + b1)\n",
    "L3 = tf.nn.relu(tf.matmul(L2, W2) + b2)\n",
    "hypothesis = tf.matmul(L3, W3) + b3 # 가설함수 정의, relu를 사용할 필요 없다.\n",
    "cost = tf.reduce_mean(tf.nn.softmax_cross_entropy_with_logits(hypothesis, Y)) # cost function 정의\n",
    "train = tf.train.AdamOptimizer(learning_rate=learning_rate).minimize(cost)\n",
    "\"\"\"\n",
    "\n",
    "# ------------------------------------------------\n",
    "# relu + more deep & dropout\n",
    "# ------------------------------------------------\n",
    "#\"\"\"\n",
    "dropout_rate = tf.placeholder(\"float\")\n",
    "_L1 = tf.nn.relu(tf.matmul(X, W1) + b1)\n",
    "L1 = tf.nn.dropout(_L1, dropout_rate)\n",
    "_L2 = tf.nn.relu(tf.matmul(L1, W2) + b2)\n",
    "L2 = tf.nn.dropout(_L2, dropout_rate)\n",
    "_L3 = tf.nn.relu(tf.matmul(L2, W3) + b3)\n",
    "L3 = tf.nn.dropout(_L3, dropout_rate)\n",
    "_L4 = tf.nn.relu(tf.matmul(L3, W4) + b4)\n",
    "L4 = tf.nn.dropout(_L4, dropout_rate)\n",
    "\n",
    "hypothesis = tf.matmul(L4, W5) + b5 # 가설함수 정의, relu를 사용할 필요 없다.\n",
    "cost = tf.reduce_mean(tf.nn.softmax_cross_entropy_with_logits(hypothesis, Y)) # cost function 정의\n",
    "train = tf.train.AdamOptimizer(learning_rate=learning_rate).minimize(cost)\n",
    "#\"\"\"\n",
    "\n",
    "\n",
    "    \n",
    "# tensorboard step 1: histogram 추가\n",
    "w1_hist = tf.histogram_summary(\"w1_hist\", W1)\n",
    "w2_hist = tf.histogram_summary(\"w2_hist\", W2)\n",
    "w3_hist = tf.histogram_summary(\"w3_hist\", W3)\n",
    "b1_hist = tf.histogram_summary(\"b1_hist\", b1)\n",
    "b2_hist = tf.histogram_summary(\"b2_hist\", b2)\n",
    "b3_hist = tf.histogram_summary(\"b3_hist\", b3)\n",
    "\n",
    " "
   ]
  },
  {
   "cell_type": "markdown",
   "metadata": {},
   "source": [
    "### sigmoid 적용\n",
    "\n",
    "아래와 같이 구성한다.\n",
    "\n",
    "- 3 layer\n",
    "- learning_rate = 3.0\n",
    "- hypothesis = tf.sigmoid(tf.matmul(L3, W3) + b3)\n",
    "- cost = -tf.reduce_mean(Y*tf.log(hypothesis) + (1-Y)*tf.log(1-hypothesis))\n",
    "\n",
    "test set의 accuracy = 92.65%\n",
    "\n",
    "### relu 적용\n",
    "\n",
    "- learning_rate = 0.03\n",
    "- L3 = tf.nn.relu(tf.matmul(L2, W2) + b2)\n",
    "- hypothesis = tf.matmul(L3, W3) + b3 # 가설함수 정의, relu를 사용할 필요 없다.\n",
    "- cost = tf.reduce_mean(tf.nn.softmax_cross_entropy_with_logits(hypothesis, Y)) # cost function 정의\n",
    "- train = tf.train.AdamOptimizer(learning_rate=learning_rate).minimize(cost)\n",
    "\n",
    "test set의 accuracy = 93.91%\n",
    "\n",
    "\n",
    "### Xavier 초기화 적용\n",
    "\n",
    "- W1 = tf.get_variable(\"W1\", shape=[784, 256], initializer=xavier_init(784, 256))\n",
    "\n",
    "test set accuracy = 97.00%\n",
    "\n",
    "### more deep & dropout\n",
    "\n",
    "- layer 5개 사용\n",
    "- xavier 초기화 사용\n",
    "- dropout 사용\n",
    "\n",
    "test set accuracy = 98.13%\n"
   ]
  },
  {
   "cell_type": "code",
   "execution_count": 8,
   "metadata": {
    "collapsed": false
   },
   "outputs": [
    {
     "name": "stdout",
     "output_type": "stream",
     "text": [
      "Epoch: 0001 , cost =  0.376060677 \n",
      "Epoch: 0002 , cost =  0.199629387 \n",
      "Epoch: 0003 , cost =  0.164182898 \n",
      "Epoch: 0004 , cost =  0.148201066 \n",
      "Epoch: 0005 , cost =  0.144980516 \n",
      "Epoch: 0006 , cost =  0.135722203 \n",
      "Epoch: 0007 , cost =  0.139414541 \n",
      "Epoch: 0008 , cost =  0.131870273 \n",
      "Epoch: 0009 , cost =  0.123009865 \n",
      "Epoch: 0010 , cost =  0.119346424 \n",
      "Epoch: 0011 , cost =  0.119971928 \n",
      "Epoch: 0012 , cost =  0.122470589 \n",
      "Epoch: 0013 , cost =  0.124614979 \n",
      "Epoch: 0014 , cost =  0.116911333 \n",
      "Epoch: 0015 , cost =  0.121315484 \n",
      "Epoch: 0016 , cost =  0.110711080 \n",
      "Epoch: 0017 , cost =  0.109653256 \n",
      "Epoch: 0018 , cost =  0.111416301 \n",
      "Epoch: 0019 , cost =  0.107888220 \n",
      "Epoch: 0020 , cost =  0.105665296 \n",
      "Optimizaiton finishied.\n"
     ]
    },
    {
     "data": {
      "text/plain": [
       "[<matplotlib.lines.Line2D at 0x7f1907e1e950>]"
      ]
     },
     "execution_count": 8,
     "metadata": {},
     "output_type": "execute_result"
    },
    {
     "data": {
      "image/png": "[encoded data removed]",
      "text/plain": [
       "<matplotlib.figure.Figure at 0x7f1908ad4490>"
      ]
     },
     "metadata": {},
     "output_type": "display_data"
    }
   ],
   "source": [
    "## Part 3: training dataset\n",
    "# batch로 트레이닝한다.\n",
    "# ------------------------------\n",
    "\n",
    "# tensorboard step 2: 모든 summary를 통합한다.\n",
    "merged = tf.merge_all_summaries()\n",
    "#merged = tf.merge_summary([w1_hist, w2_hist, b1_hist, b2_hist, y_hist])\n",
    "\n",
    "\n",
    "# 변수 초기화 및 그래프 시작\n",
    "init = tf.initialize_all_variables()\n",
    "sess = tf.Session()\n",
    "sess.run(init)\n",
    "\n",
    "# tensorboard step 3: writer를 생성한다.\n",
    "writer = tf.train.SummaryWriter(\"./logs/test\", sess.graph_def)\n",
    "\n",
    "\n",
    "# Using small batches of random data is called stochastic training\n",
    "# 작은 배치 사이즈로 트레이닝한다. 이것은 stochastic training이라고도 한다.\n",
    "# 전체 데이터로 하면 정확도가 높긴하지만, 비용이 많이 든다. \n",
    "\n",
    "# 아래 변수들을 적당히 조정해야 한다.\n",
    "training_epochs = 20 # 전체 트레이닝 반복 횟수 20\n",
    "batch_size = 100 # 한 번에 처리하는 데이터 사이즈 100\n",
    "display_step = 1 # progress 표시 \n",
    "arr_J = np.zeros(training_epochs) # cost 저장\n",
    "\n",
    "total_batch = int(mnist.train.num_examples / batch_size)\n",
    "\n",
    "# training 반복횟수만큼 루프실행\n",
    "for epoch in range(training_epochs):\n",
    "    avg_cost = 0;\n",
    "    \n",
    "    # 전체 배치 수를 결정하고 각 배치에 대해서 루프를 실행한다.\n",
    "    for i in range(total_batch):\n",
    "        batch_xs, batch_ys = mnist.train.next_batch(batch_size)\n",
    "        sess.run(train, feed_dict={X: batch_xs, Y: batch_ys, dropout_rate: 0.7})\n",
    "    \n",
    "        # cost를 계산한다.\n",
    "        avg_cost += sess.run(cost, \\\n",
    "            feed_dict = {X: batch_xs, Y: batch_ys, dropout_rate: 0.7}) / total_batch\n",
    "\n",
    "    # tensorboard step 4: merged와 add_summary를 실행한다.\n",
    "    #summary = sess.run(merged, feed_dict={X: batch_xs, Y: batch_ys}) # placehoder관련 오류 발생        \n",
    "    #writer.add_summary(summary, epoch)\n",
    "    \n",
    "    if epoch % display_step == 0:\n",
    "        print \"Epoch: %04d\" % (epoch + 1), \", cost = \", \"{:.9f} \".format(avg_cost)\n",
    "    \n",
    "    # cost를 plot한다.\n",
    "    arr_J[epoch] = avg_cost\n",
    "\n",
    "print \"Optimizaiton finishied.\"\n",
    "plot(arr_J, 'r--')\n",
    "\n",
    "\n"
   ]
  },
  {
   "cell_type": "code",
   "execution_count": 9,
   "metadata": {
    "collapsed": false
   },
   "outputs": [
    {
     "name": "stdout",
     "output_type": "stream",
     "text": [
      "Label:  [9]\n",
      "Prediction:  [9]\n"
     ]
    },
    {
     "data": {
      "image/png": "[encoded data removed]",
      "text/plain": [
       "<matplotlib.figure.Figure at 0x7f1908b04710>"
      ]
     },
     "metadata": {},
     "output_type": "display_data"
    },
    {
     "name": "stdout",
     "output_type": "stream",
     "text": [
      "Accuracy:  97.7699995041\n"
     ]
    }
   ],
   "source": [
    "## Part 4: Predict & Show\n",
    "# test set에서 임의로 하나의 이미지를 선택하고 예측한다.\n",
    "# -----------------------------------------------------\n",
    "# image를 보여준다.\n",
    "r = randint(0, mnist.test.num_examples - 1)\n",
    "# XXX: labels[r:r+1] 은 2차원 배열(행렬)로 반환한다. labels[r]은 1차원 벡터를 반환한다.\n",
    "print \"Label: \", sess.run(tf.argmax(mnist.test.labels[r:r+1], 1))\n",
    "print \"Prediction: \", sess.run(tf.argmax(hypothesis, 1), \\\n",
    "            feed_dict = {X: mnist.test.images[r:r+1], dropout_rate: 1.0})\n",
    "\n",
    "# 이미지 출력\n",
    "#plt.set_cmap('gray')\n",
    "plt.imshow(mnist.test.images[r:r+1].reshape(28, 28), cmap=\"gray\", interpolation=\"nearest\")\n",
    "plt.show()\n",
    "\n",
    "\n",
    "\n",
    "## Part 4: test set에 대한 모델의 정확도를 계산한다.\n",
    "# -----------------------------------------------------\n",
    "\n",
    "# Test 모델 구축\n",
    "# activation은 모델이 예측한 값을 가지고 있고, Y는 실제 label의 값이다.\n",
    "# tf.argmax() 함수는 임의의 축(가로 또는 세로)에 대한 가장 높은 값을 갖는 인덱스를 반환한다.\n",
    "correct_prediction = tf.equal(tf.argmax(hypothesis,1), tf.argmax(Y,1))\n",
    "\n",
    "# correct_prediction은 [True, False]와 같은 boolean 값을 갖는다. float으로 형변환 하면\n",
    "# 1, 0 으로 바뀌게 되고 평균을 취한다.\n",
    "accuracy = tf.reduce_mean(tf.cast(correct_prediction, tf.float32))\n",
    "\n",
    "# 정확도를 계산한다.\n",
    "print \"Accuracy: \", sess.run(accuracy, \\\n",
    "        feed_dict={X: mnist.test.images, Y: mnist.test.labels, dropout_rate: 1.0}) * 100\n",
    "#print \"Accuracy: \", accuracy.eval({X: mnist.test.images, Y: mnist.test.labels})\n",
    "\n"
   ]
  },
  {
   "cell_type": "code",
   "execution_count": null,
   "metadata": {
    "collapsed": false
   },
   "outputs": [
    {
     "name": "stdout",
     "output_type": "stream",
     "text": [
      "149 Label:  [2] Prediction:  [3]\n"
     ]
    },
    {
     "data": {
      "image/png": "[encoded data removed]",
      "text/plain": [
       "<matplotlib.figure.Figure at 0x7f18f8f49490>"
      ]
     },
     "metadata": {},
     "output_type": "display_data"
    },
    {
     "name": "stdout",
     "output_type": "stream",
     "text": [
      "151 Label:  [9] Prediction:  [5]\n"
     ]
    },
    {
     "data": {
      "image/png": "[encoded data removed]",
      "text/plain": [
       "<matplotlib.figure.Figure at 0x7f18f8e5ec50>"
      ]
     },
     "metadata": {},
     "output_type": "display_data"
    },
    {
     "name": "stdout",
     "output_type": "stream",
     "text": [
      "241 Label:  [9] Prediction:  [5]\n"
     ]
    },
    {
     "data": {
      "image/png": "[encoded data removed]",
      "text/plain": [
       "<matplotlib.figure.Figure at 0x7f18f9c249d0>"
      ]
     },
     "metadata": {},
     "output_type": "display_data"
    },
    {
     "name": "stdout",
     "output_type": "stream",
     "text": [
      "247 Label:  [4] Prediction:  [2]\n"
     ]
    },
    {
     "data": {
      "image/png": "[encoded data removed]",
      "text/plain": [
       "<matplotlib.figure.Figure at 0x7f18f8b74c10>"
      ]
     },
     "metadata": {},
     "output_type": "display_data"
    },
    {
     "name": "stdout",
     "output_type": "stream",
     "text": [
      "259 Label:  [6] Prediction:  [0]\n"
     ]
    },
    {
     "data": {
      "image/png": "[encoded data removed]",
      "text/plain": [
       "<matplotlib.figure.Figure at 0x7f18f8a0fed0>"
      ]
     },
     "metadata": {},
     "output_type": "display_data"
    },
    {
     "name": "stdout",
     "output_type": "stream",
     "text": [
      "274 Label:  [9] Prediction:  [3]\n"
     ]
    },
    {
     "data": {
      "image/png": "[encoded data removed]",
      "text/plain": [
       "<matplotlib.figure.Figure at 0x7f18f88a5dd0>"
      ]
     },
     "metadata": {},
     "output_type": "display_data"
    },
    {
     "name": "stdout",
     "output_type": "stream",
     "text": [
      "321 Label:  [2] Prediction:  [7]\n"
     ]
    },
    {
     "data": {
      "image/png": "[encoded data removed]",
      "text/plain": [
       "<matplotlib.figure.Figure at 0x7f18f8636b90>"
      ]
     },
     "metadata": {},
     "output_type": "display_data"
    },
    {
     "name": "stdout",
     "output_type": "stream",
     "text": [
      "447 Label:  [4] Prediction:  [9]\n"
     ]
    },
    {
     "data": {
      "image/png": "[encoded data removed]",
      "text/plain": [
       "<matplotlib.figure.Figure at 0x7f18f7ebce10>"
      ]
     },
     "metadata": {},
     "output_type": "display_data"
    },
    {
     "name": "stdout",
     "output_type": "stream",
     "text": [
      "479 Label:  [9] Prediction:  [5]\n"
     ]
    },
    {
     "data": {
      "image/png": "[encoded data removed]",
      "text/plain": [
       "<matplotlib.figure.Figure at 0x7f18f7cb0410>"
      ]
     },
     "metadata": {},
     "output_type": "display_data"
    },
    {
     "name": "stdout",
     "output_type": "stream",
     "text": [
      "552 Label:  [0] Prediction:  [6]\n"
     ]
    },
    {
     "data": {
      "image/png": "[encoded data removed]",
      "text/plain": [
       "<matplotlib.figure.Figure at 0x7f18f780eb50>"
      ]
     },
     "metadata": {},
     "output_type": "display_data"
    },
    {
     "name": "stdout",
     "output_type": "stream",
     "text": [
      "582 Label:  [8] Prediction:  [2]\n"
     ]
    },
    {
     "data": {
      "image/png": "[encoded data removed]",
      "text/plain": [
       "<matplotlib.figure.Figure at 0x7f18f758de50>"
      ]
     },
     "metadata": {},
     "output_type": "display_data"
    },
    {
     "name": "stdout",
     "output_type": "stream",
     "text": [
      "583 Label:  [2] Prediction:  [8]\n"
     ]
    },
    {
     "data": {
      "image/png": "[encoded data removed]",
      "text/plain": [
       "<matplotlib.figure.Figure at 0x7f18f75bf050>"
      ]
     },
     "metadata": {},
     "output_type": "display_data"
    },
    {
     "name": "stdout",
     "output_type": "stream",
     "text": [
      "610 Label:  [4] Prediction:  [8]\n"
     ]
    },
    {
     "data": {
      "image/png": "[encoded data removed]",
      "text/plain": [
       "<matplotlib.figure.Figure at 0x7f18f8e0ea90>"
      ]
     },
     "metadata": {},
     "output_type": "display_data"
    },
    {
     "name": "stdout",
     "output_type": "stream",
     "text": [
      "659 Label:  [2] Prediction:  [7]\n"
     ]
    },
    {
     "data": {
      "image/png": "[encoded data removed]",
      "text/plain": [
       "<matplotlib.figure.Figure at 0x7f18f859df90>"
      ]
     },
     "metadata": {},
     "output_type": "display_data"
    },
    {
     "name": "stdout",
     "output_type": "stream",
     "text": [
      "674 Label:  [5] Prediction:  [3]\n"
     ]
    },
    {
     "data": {
      "image/png": "[encoded data removed]",
      "text/plain": [
       "<matplotlib.figure.Figure at 0x7f18f89b68d0>"
      ]
     },
     "metadata": {},
     "output_type": "display_data"
    },
    {
     "name": "stdout",
     "output_type": "stream",
     "text": [
      "684 Label:  [7] Prediction:  [3]\n"
     ]
    },
    {
     "data": {
      "image/png": "[encoded data removed]",
      "text/plain": [
       "<matplotlib.figure.Figure at 0x7f18f748b750>"
      ]
     },
     "metadata": {},
     "output_type": "display_data"
    },
    {
     "name": "stdout",
     "output_type": "stream",
     "text": [
      "691 Label:  [8] Prediction:  [4]\n"
     ]
    },
    {
     "data": {
      "image/png": "[encoded data removed]",
      "text/plain": [
       "<matplotlib.figure.Figure at 0x7f18f890a890>"
      ]
     },
     "metadata": {},
     "output_type": "display_data"
    },
    {
     "name": "stdout",
     "output_type": "stream",
     "text": [
      "707 Label:  [4] Prediction:  [9]\n"
     ]
    },
    {
     "data": {
      "image/png": "[encoded data removed]",
      "text/plain": [
       "<matplotlib.figure.Figure at 0x7f18f71aee10>"
      ]
     },
     "metadata": {},
     "output_type": "display_data"
    },
    {
     "name": "stdout",
     "output_type": "stream",
     "text": [
      "717 Label:  [0] Prediction:  [6]\n"
     ]
    },
    {
     "data": {
      "image/png": "[encoded data removed]",
      "text/plain": [
       "<matplotlib.figure.Figure at 0x7f18f7056e10>"
      ]
     },
     "metadata": {},
     "output_type": "display_data"
    },
    {
     "name": "stdout",
     "output_type": "stream",
     "text": [
      "720 Label:  [5] Prediction:  [8]\n"
     ]
    },
    {
     "data": {
      "image/png": "[encoded data removed]",
      "text/plain": [
       "<matplotlib.figure.Figure at 0x7f18f703f110>"
      ]
     },
     "metadata": {},
     "output_type": "display_data"
    },
    {
     "name": "stdout",
     "output_type": "stream",
     "text": [
      "740 Label:  [4] Prediction:  [9]\n"
     ]
    },
    {
     "data": {
      "image/png": "[encoded data removed]",
      "text/plain": [
       "<matplotlib.figure.Figure at 0x7f18f6e03410>"
      ]
     },
     "metadata": {},
     "output_type": "display_data"
    },
    {
     "name": "stdout",
     "output_type": "stream",
     "text": [
      "844 Label:  [8] Prediction:  [7]\n"
     ]
    },
    {
     "data": {
      "image/png": "[encoded data removed]",
      "text/plain": [
       "<matplotlib.figure.Figure at 0x7f18f6813410>"
      ]
     },
     "metadata": {},
     "output_type": "display_data"
    },
    {
     "name": "stdout",
     "output_type": "stream",
     "text": [
      "1014 Label:  [6] Prediction:  [5]\n"
     ]
    },
    {
     "data": {
      "image/png": "[encoded data removed]",
      "text/plain": [
       "<matplotlib.figure.Figure at 0x7f18f5ffef90>"
      ]
     },
     "metadata": {},
     "output_type": "display_data"
    },
    {
     "name": "stdout",
     "output_type": "stream",
     "text": [
      "1032 Label:  [5] Prediction:  [6]\n"
     ]
    },
    {
     "data": {
      "image/png": "[encoded data removed]",
      "text/plain": [
       "<matplotlib.figure.Figure at 0x7f18f5d56fd0>"
      ]
     },
     "metadata": {},
     "output_type": "display_data"
    },
    {
     "name": "stdout",
     "output_type": "stream",
     "text": [
      "1039 Label:  [7] Prediction:  [1]\n"
     ]
    },
    {
     "data": {
      "image/png": "[encoded data removed]",
      "text/plain": [
       "<matplotlib.figure.Figure at 0x7f18f5c9da90>"
      ]
     },
     "metadata": {},
     "output_type": "display_data"
    }
   ],
   "source": [
    "# XXX: labels[r:r+1] 은 2차원 배열(행렬)로 반환한다. labels[r]은 1차원 벡터를 반환한다.\n",
    "# 모든 test set을 예측하고 틀린 결과에 대해서 이미지를 살펴본다.\n",
    "for r in xrange(mnist.test.num_examples):\n",
    "    label = sess.run(tf.argmax(mnist.test.labels[r:r+1], 1))\n",
    "    prediction = sess.run(tf.argmax(hypothesis, 1), \\\n",
    "            feed_dict = {X: mnist.test.images[r:r+1], dropout_rate: 1.0})\n",
    "\n",
    "    # 틀릴 경우 이미지를 표시한다.\n",
    "    if label != prediction:\n",
    "        print r, \"Label: \", label, \"Prediction: \", prediction\n",
    "    \n",
    "        # 이미지 출력\n",
    "        #plt.set_cmap('gray')\n",
    "        plt.imshow(mnist.test.images[r:r+1].reshape(28, 28), cmap=\"gray\", interpolation=\"nearest\")\n",
    "        plt.show()\n",
    "\n",
    "print \"done!\"\n"
   ]
  },
  {
   "cell_type": "code",
   "execution_count": null,
   "metadata": {
    "collapsed": true
   },
   "outputs": [],
   "source": []
  }
 ],
 "metadata": {
  "kernelspec": {
   "display_name": "Python 2",
   "language": "python",
   "name": "python2"
  },
  "language_info": {
   "codemirror_mode": {
    "name": "ipython",
    "version": 2
   },
   "file_extension": ".py",
   "mimetype": "text/x-python",
   "name": "python",
   "nbconvert_exporter": "python",
   "pygments_lexer": "ipython2",
   "version": "2.7.11"
  }
 },
 "nbformat": 4,
 "nbformat_minor": 0
}
