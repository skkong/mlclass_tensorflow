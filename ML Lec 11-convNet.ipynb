{
 "cells": [
  {
   "cell_type": "markdown",
   "metadata": {},
   "source": [
    "# lab11: ConvNet을 TensorFlow로 구현하자 (MNIST 99%)\n",
    "\n",
    "## 참고자료 \n",
    "\n",
    "- 김성훈교수님 [lab11: ConvNet을 TensorFlow로 구현하자 (MNIST 99%)](https://youtu.be/6KlkiKyjEu0)\n",
    "- [github nlintz 소스 참조](https://github.com/nlintz/TensorFlow-Tutorials/blob/master/5_convolutional_net.py)\n",
    "\n",
    "\n",
    "## 기타 사항\n",
    "\n",
    "- accuracy 계산관련 소스는 lab10 소스를 참조함.\n",
    "- 테스트로 운영 중인 서버의 사양이 1 cpu 1.9GHz, 500M 메모리였음. \n",
    "- convoution network 학습 시 시간이 오래 걸려서 아이맥 Intel Core I3에서 실행함.\n",
    "- 그럼에도 불구하고 학습 시간은 오래오래 걸림. \n",
    "- 전체 training dataset을 10번 학습시키는데 걸리는 시간: 50분 정도 걸림\n",
    "- 적절한 초기화 xavier를 적용하지 않았음에도 정확도가 1번 트레이닝 후에 97% 정도로 매우 높음.\n",
    "- 10 학습 이후 정확도는 99.29% 임.\n"
   ]
  },
  {
   "cell_type": "code",
   "execution_count": 1,
   "metadata": {
    "collapsed": false
   },
   "outputs": [
    {
     "name": "stdout",
     "output_type": "stream",
     "text": [
      "Populating the interactive namespace from numpy and matplotlib\n"
     ]
    }
   ],
   "source": [
    "%pylab inline\n",
    "\n",
    "import tensorflow as tf\n",
    "import numpy as np\n",
    "import matplotlib.pyplot as plt\n",
    "\n",
    "\n",
    "# anaconda에 설치된 tensorflow 예제 mnist example에 대한 경로명을 추가한다.\n",
    "import sys\n",
    "# linux\n",
    "sys.path.insert(1, '/root/anaconda2/lib/python2.7/site-packages/tensorflow/examples/tutorials/mnist')\n",
    "# os x, imac\n",
    "#sys.path.insert(1, '/root/skkong/anaconda/lib/python2.7/site-packages/tensorflow/examples/tutorials/mnist')\n",
    "\n"
   ]
  },
  {
   "cell_type": "code",
   "execution_count": 2,
   "metadata": {
    "collapsed": false
   },
   "outputs": [
    {
     "name": "stdout",
     "output_type": "stream",
     "text": [
      "Extracting MNIST_data/train-images-idx3-ubyte.gz\n",
      "Extracting MNIST_data/train-labels-idx1-ubyte.gz\n",
      "Extracting MNIST_data/t10k-images-idx3-ubyte.gz\n",
      "Extracting MNIST_data/t10k-labels-idx1-ubyte.gz\n"
     ]
    }
   ],
   "source": [
    "## Part 1: 이미지 데이터 로드\n",
    "# -----------------------------\n",
    "from tensorflow.examples.tutorials.mnist import input_data\n",
    "mnist = input_data.read_data_sets(\"MNIST_data/\", one_hot=True)"
   ]
  },
  {
   "cell_type": "code",
   "execution_count": 3,
   "metadata": {
    "collapsed": false
   },
   "outputs": [
    {
     "name": "stdout",
     "output_type": "stream",
     "text": [
      "[[ 0.  0.  0.  0.  0.  0.  0.  1.  0.  0.]\n",
      " [ 0.  0.  0.  1.  0.  0.  0.  0.  0.  0.]\n",
      " [ 0.  0.  0.  0.  1.  0.  0.  0.  0.  0.]\n",
      " [ 0.  0.  0.  0.  0.  0.  1.  0.  0.  0.]\n",
      " [ 0.  1.  0.  0.  0.  0.  0.  0.  0.  0.]]\n"
     ]
    }
   ],
   "source": [
    "# 로딩된 데이터 확인\n",
    "print mnist.train.labels[0:5, :]"
   ]
  },
  {
   "cell_type": "code",
   "execution_count": 4,
   "metadata": {
    "collapsed": true
   },
   "outputs": [],
   "source": [
    "# http://stackoverflow.com/questions/33640581/how-to-do-xavier-initialization-on-tensorflow\n",
    "def xavier_init(n_inputs, n_outputs, uniform=True):\n",
    "  \"\"\"Set the parameter initialization using the method described.\n",
    "  This method is designed to keep the scale of the gradients roughly the same\n",
    "  in all layers.\n",
    "  Xavier Glorot and Yoshua Bengio (2010):\n",
    "           Understanding the difficulty of training deep feedforward neural\n",
    "           networks. International conference on artificial intelligence and\n",
    "           statistics.\n",
    "  Args:\n",
    "    n_inputs: The number of input nodes into each output.\n",
    "    n_outputs: The number of output nodes for each input.\n",
    "    uniform: If true use a uniform distribution, otherwise use a normal.\n",
    "  Returns:\n",
    "    An initializer.\n",
    "  \"\"\"\n",
    "  if uniform:\n",
    "    # 6 was used in the paper.\n",
    "    init_range = math.sqrt(6.0 / (n_inputs + n_outputs))\n",
    "    return tf.random_uniform_initializer(-init_range, init_range)\n",
    "  else:\n",
    "    # 3 gives us approximately the same limits as above since this repicks\n",
    "    # values greater than 2 standard deviations from the mean.\n",
    "    stddev = math.sqrt(3.0 / (n_inputs + n_outputs))\n",
    "    return tf.truncated_normal_initializer(stddev=stddev)\n"
   ]
  },
  {
   "cell_type": "code",
   "execution_count": 5,
   "metadata": {
    "collapsed": false
   },
   "outputs": [],
   "source": [
    "# 그래프 초기화\n",
    "tf.reset_default_graph()\n",
    "\n",
    "\n",
    "## Part 2: 변수, 가설함수, cost function 및 gradient descent 정의\n",
    "# ----------------------------------------------------------------\n",
    "# 변수 선언\n",
    "X = tf.placeholder(tf.float32, [None, 28, 28, 1], name=\"inputX\") # bias term 제외, 하나의 이미지는 28x28이다.\n",
    "Y = tf.placeholder(tf.float32, [None, 10], name=\"inputY\") # one-hot encoding 때문에 10개로 선언한다.\n",
    "\n",
    "p_keep_conv = tf.placeholder(tf.float32) # drop-out 비율\n",
    "p_keep_hidden = tf.placeholder(tf.float32)\n",
    "\n",
    "# 모델의 파라미터 선언\n",
    "\n",
    "# filter 정보: 3x3x1 (필터 가로크기x필터 세로크기x바이너리 이미지 깊이)\n",
    "# 32: 최초 32개의 필터 사용, 즉, 32개의 필터를 층층히 쌓게 된다.\n",
    "# 1차 32개의 필터층, 2차 64개의 필터층, 3차 128개의 필터층\n",
    "w = tf.Variable(tf.random_normal([3, 3, 1, 32], stddev=0.01)) # 3x3x1 conv, 32 outputs\n",
    "\n",
    "# 필터의 깊이를 1 -> 32 -> 64 -> 128로 확장하고 있다.\n",
    "w2 = tf.Variable(tf.random_normal([3, 3, 32, 64], stddev=0.01)) # [필터 가로, 필터 세로, w 입력, 출력]\n",
    "w3 = tf.Variable(tf.random_normal([3, 3, 64, 128], stddev=0.01)) # [필터 가로, 필터 세로, w 입력, 출력]\n",
    "\n",
    "# XXX: bias는 정의하고 있지 않다.\n",
    "\n",
    "# 모델 정의: convolution 적용 -> relu -> max pooling -> drop out 반복\n",
    "# layer 1\n",
    "l1a = tf.nn.relu(tf.nn.conv2d(X, w, strides=[1, 1, 1, 1], \n",
    "                              padding='SAME')) # l1a shape: [?, 28, 28, 32]\n",
    "l1 = tf.nn.max_pool(l1a, ksize=[1, 2, 2, 1], \n",
    "                   strides=[1, 2, 2, 1], padding='SAME') # l1 shape: [?, 14, 14, 32]\n",
    "l1 = tf.nn.dropout(l1, p_keep_conv)\n",
    "\n",
    "# layer 2\n",
    "l2a = tf.nn.relu(tf.nn.conv2d(l1, w2, strides=[1, 1, 1, 1],\n",
    "                              padding='SAME')) # l2a shape: [?, 14, 14, 64]\n",
    "l2 = tf.nn.max_pool(l2a, ksize=[1, 2, 2, 1],\n",
    "                   strides=[1, 2, 2, 1], padding='SAME') # l2 shape: [?, 7, 7 64]\n",
    "l2 = tf.nn.dropout(l2, p_keep_conv)\n",
    "\n",
    "# layer 3\n",
    "l3a = tf.nn.relu(tf.nn.conv2d(l2, w3, strides=[1, 1, 1, 1],\n",
    "                padding='SAME')) # l3a shape: [?, 7, 7, 128]\n",
    "l3 = tf.nn.max_pool(l3a, ksize=[1, 2, 2, 1],\n",
    "                   strides=[1, 2, 2, 1], padding='SAME') # l3 shape: [?, 4, 4, 128]\n",
    "\n",
    "## Part 3: Fully connected network 구성\n",
    "# -------------------------------------------\n",
    "# 1) 2개의 layer로 구성된다. (입력, 출력 layer)\n",
    "# 2) 첫번째 layer는 4x4x128개의 입력을 받고 625개의 출력을 갖는다.\n",
    "# 3) 두번째 layer는 625개의 입력을 받고 10개의 출력을 갖는다.\n",
    "#\n",
    "# l3의 출력값이 [?, 4, 4, 128]이기 때문에 fully connected network의 입력은 모든 픽셀의 갯수가 된다.\n",
    "w4 = tf.Variable(tf.random_normal([4*4*128, 625], stddev=0.01)) # [필터 가로, 필터 세로, w 입력, 출력]\n",
    "w_o = tf.Variable(tf.random_normal([625, 10])) # 625개의 입력을 받고 10개의 출력을 갖는다. fc의 output layer가 된다.\n",
    "\n",
    "# l4의 입력형태로 l3의 값을 일렬로 풀어준다. l3의 출력값이 모두 2048이 된다.\n",
    "l3 = tf.reshape(l3, [-1, w4.get_shape().as_list()[0]]) # reshape: ?x2048\n",
    "l4 = tf.nn.relu(tf.matmul(l3, w4))\n",
    "l4 = tf.nn.dropout(l4, p_keep_hidden) # 입력 layer의 출력값에 drop-out 적용\n",
    "\n",
    "# 최종 10개의 출력으로 변환된다.\n",
    "py_x = tf.matmul(l4, w_o)\n",
    "\n",
    "\n",
    "# RMSPropOptimzer 사용하고 있음, 상세 스펙 알아보기\n",
    "cost = tf.reduce_mean(tf.nn.softmax_cross_entropy_with_logits(py_x, Y)) # cost function 정의\n",
    "train_op = tf.train.RMSPropOptimizer(0.001, 0.9).minimize(cost) \n",
    "predict_op = tf.argmax(py_x, 1) # 예측 operator\n"
   ]
  },
  {
   "cell_type": "code",
   "execution_count": 18,
   "metadata": {
    "collapsed": false
   },
   "outputs": [
    {
     "name": "stdout",
     "output_type": "stream",
     "text": [
      "Epoch: 0001 , cost =  0.775487099 \n",
      "Epoch: 0002 , cost =  0.035951509 \n",
      "Epoch: 0003 , cost =  0.024530972 \n",
      "Epoch: 0004 , cost =  0.019162277 \n",
      "Epoch: 0005 , cost =  0.018095596 \n",
      "Epoch: 0006 , cost =  0.015819281 \n",
      "Epoch: 0007 , cost =  0.015673208 \n",
      "Epoch: 0008 , cost =  0.014134715 \n",
      "Epoch: 0009 , cost =  0.014259177 \n",
      "Epoch: 0010 , cost =  0.014004743 \n",
      "Optimizaiton finishied.\n"
     ]
    },
    {
     "data": {
      "text/plain": [
       "[<matplotlib.lines.Line2D at 0x11be3b950>]"
      ]
     },
     "execution_count": 18,
     "metadata": {},
     "output_type": "execute_result"
    },
    {
     "data": {
      "image/png": "[encoded data removed]",
      "text/plain": [
       "<matplotlib.figure.Figure at 0x119fa7c10>"
      ]
     },
     "metadata": {},
     "output_type": "display_data"
    }
   ],
   "source": [
    "## Part 3: training dataset\n",
    "# ------------------------------\n",
    "# batch로 트레이닝한다.\n",
    "\n",
    "# 변수 초기화 및 그래프 시작\n",
    "init = tf.initialize_all_variables()\n",
    "sess = tf.Session()\n",
    "sess.run(init)\n",
    "\n",
    "# 아래 변수들을 적당히 조정해야 한다.\n",
    "training_epochs = 10 # 전체 트레이닝 반복 횟수 100\n",
    "batch_size = 128 # 한 번에 처리하는 데이터 사이즈 128\n",
    "display_step = 1 # progress 표시 \n",
    "arr_J = np.zeros(training_epochs) # cost 저장\n",
    "\n",
    "total_batch = int(mnist.train.num_examples / batch_size)\n",
    "\n",
    "# 반복횟수만큼 전체 training dataset에 대해서 루프실행\n",
    "for epoch in range(training_epochs):\n",
    "    avg_cost = 0;\n",
    "\n",
    "    # 전체 배치 수를 결정하고 각 배치에 대해서 루프를 실행한다.\n",
    "    for i in range(total_batch):\n",
    "        batch_xs, batch_ys = mnist.train.next_batch(batch_size)\n",
    "        batch_xs = batch_xs.reshape(-1, 28, 28, 1)  # 28x28x1 input img\n",
    "        \n",
    "        #print batch_xs.shape # 128x28x28x1\n",
    "        \n",
    "        sess.run(train_op, feed_dict={X: batch_xs, Y: batch_ys\n",
    "                                      , p_keep_conv: 0.8, p_keep_hidden: 0.5})\n",
    "\n",
    "        # cost를 계산한다.\n",
    "        avg_cost += sess.run(cost,\n",
    "            feed_dict = {X: batch_xs, Y: batch_ys\n",
    "                         , p_keep_conv: 0.8, p_keep_hidden: 0.5}) / total_batch\n",
    "\n",
    "    if epoch % display_step == 0:\n",
    "        print \"Epoch: %04d\" % (epoch + 1), \", cost = \", \"{:.9f} \".format(avg_cost)\n",
    "\n",
    "    # cost를 plot한다.\n",
    "    arr_J[epoch] = avg_cost\n",
    "\n",
    "print \"Optimizaiton finishied.\"\n",
    "plot(arr_J, 'r--')\n",
    "\n",
    "\n"
   ]
  },
  {
   "cell_type": "code",
   "execution_count": 19,
   "metadata": {
    "collapsed": false
   },
   "outputs": [
    {
     "name": "stdout",
     "output_type": "stream",
     "text": [
      "Label:  [4]\n",
      "Prediction:  [4]\n"
     ]
    },
    {
     "data": {
      "image/png": "[encoded data removed]",
      "text/plain": [
       "<matplotlib.figure.Figure at 0x119e84650>"
      ]
     },
     "metadata": {},
     "output_type": "display_data"
    }
   ],
   "source": [
    "## Part 4: Predict & Show\n",
    "# -----------------------------------------------------\n",
    "# test set에서 임의로 하나의 이미지를 선택하고 예측한다.\n",
    "# image를 보여준다.\n",
    "r = randint(0, mnist.test.num_examples - 1)\n",
    "\n",
    "# XXX: labels[r:r+1] 은 2차원 배열(행렬)로 반환한다. labels[r]은 1차원 벡터를 반환한다.\n",
    "print \"Label: \", sess.run(tf.argmax(mnist.test.labels[r:r+1], 1)) # 1x10\n",
    "print \"Prediction: \", sess.run(predict_op,\n",
    "            feed_dict = {X: mnist.test.images[r].reshape(1, 28, 28, 1),\n",
    "            p_keep_conv: 1.0, p_keep_hidden: 1.0})\n",
    "\n",
    "\n",
    "# 이미지 출력\n",
    "plt.imshow(mnist.test.images[r].reshape(28, 28), cmap=\"gray\", interpolation=\"nearest\")\n",
    "plt.show()\n"
   ]
  },
  {
   "cell_type": "code",
   "execution_count": 20,
   "metadata": {
    "collapsed": false
   },
   "outputs": [
    {
     "name": "stdout",
     "output_type": "stream",
     "text": [
      "Accuracy:  99.2900013924\n"
     ]
    }
   ],
   "source": [
    "## Part 5: test set에 대한 모델의 정확도를 계산한다.\n",
    "# -----------------------------------------------------\n",
    "\n",
    "# Test 모델 구축\n",
    "# activation은 모델이 예측한 값을 가지고 있고, Y는 실제 label의 값이다.\n",
    "# tf.argmax() 함수는 임의의 축(가로 또는 세로)에 대한 가장 높은 값을 갖는 인덱스를 반환한다.\n",
    "correct_prediction = tf.equal(predict_op, tf.argmax(Y, 1))\n",
    "\n",
    "# correct_prediction은 [True, False]와 같은 boolean 값을 갖는다. float으로 형변환 하면\n",
    "# 1, 0 으로 바뀌게 되고 평균을 취한다.\n",
    "accuracy = tf.reduce_mean(tf.cast(correct_prediction, tf.float32))\n",
    "\n",
    "# 정확도를 계산한다.\n",
    "print \"Accuracy: \", sess.run(accuracy,\n",
    "        feed_dict={X: mnist.test.images.reshape(-1, 28, 28, 1), Y: mnist.test.labels\n",
    "                   , p_keep_conv: 1.0, p_keep_hidden: 1.0}) * 100\n",
    "\n"
   ]
  },
  {
   "cell_type": "code",
   "execution_count": null,
   "metadata": {
    "collapsed": true
   },
   "outputs": [],
   "source": []
  }
 ],
 "metadata": {
  "kernelspec": {
   "display_name": "Python 2",
   "language": "python",
   "name": "python2"
  },
  "language_info": {
   "codemirror_mode": {
    "name": "ipython",
    "version": 2
   },
   "file_extension": ".py",
   "mimetype": "text/x-python",
   "name": "python",
   "nbconvert_exporter": "python",
   "pygments_lexer": "ipython2",
   "version": "2.7.11"
  }
 },
 "nbformat": 4,
 "nbformat_minor": 0
}
