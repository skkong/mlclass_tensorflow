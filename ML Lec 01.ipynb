{
 "cells": [
  {
   "cell_type": "markdown",
   "metadata": {},
   "source": [
    "# ML lec 01 - 기본적인 Machine Learnnig의 용어와 개념 설명\n",
    "\n",
    "비디오 강좌: https://www.youtube.com/watch?v=qPMeuL2LIqY\n",
    "\n"
   ]
  },
  {
   "cell_type": "markdown",
   "metadata": {},
   "source": [
    "## 강의 내용\n",
    "\n",
    "지도학습과 비지도 학습에 대한 설명\n",
    "\n",
    "지도 학습 중 linear regression, binary classification, multi-label classification 으로 구분된다.\n",
    "\n",
    "## Lab 1\n",
    "\n",
    "numerical computational을 data flow graph로 표현함\n",
    "\n",
    "Data Flow graph\n",
    "\n",
    "Nodes: 그래프에서의 노드는 수학적인 operations을 나타낸다. 각각의 노드들이 여러 cpu나 gpu에 분산이 가능하다.\n",
    "\n",
    "Edges: 커뮤니케이션에 사용되는 다차원 데이터 배열(tensor) 이다.\n",
    "\n",
    "설치방법\n",
    "\n",
    "텐서플로우는 모든 것이 operation이다. 이 operation을 실제로 실행시키는 것이 sess.run()이 된다.\n",
    "즉, operation의 선언과 실행이 전부이다.\n",
    "\n",
    "Operation: 퍼레이션은 하나 이상의 텐서를 받을 수 있습니다. 오퍼레이션은 계산을 수행하고, 결과를 하나 이상의 텐서로 반환할 수 있습니다."
   ]
  },
  {
   "cell_type": "code",
   "execution_count": 5,
   "metadata": {
    "collapsed": false
   },
   "outputs": [
    {
     "name": "stdout",
     "output_type": "stream",
     "text": [
      "Tensor(\"Const_3:0\", shape=(), dtype=string)\n",
      "Hello, TensorFlow!\n"
     ]
    }
   ],
   "source": [
    "'''\n",
    "HelloWorld example using TensorFlow library.\n",
    "Author: Aymeric Damien\n",
    "Project: https://github.com/aymericdamien/TensorFlow-Examples/\n",
    "'''\n",
    "\n",
    "import tensorflow as tf\n",
    "\n",
    "#Simple hello world using TensorFlow\n",
    "\n",
    "# Constant op를 생성한다.\n",
    "# op는 기본 그래프에 노드로 추가된다.\n",
    "#\n",
    "# 생성자에 의해 반환된 값은 Constant op의 출력이 된다.\n",
    "hello = tf.constant('Hello, TensorFlow!')\n",
    "\n",
    "print hello\n",
    "\n",
    "# tf session을 시작한다.\n",
    "sess = tf.Session()\n",
    "\n",
    "print sess.run(hello)"
   ]
  },
  {
   "cell_type": "code",
   "execution_count": 9,
   "metadata": {
    "collapsed": false
   },
   "outputs": [
    {
     "name": "stdout",
     "output_type": "stream",
     "text": [
      "5\n",
      "6\n"
     ]
    }
   ],
   "source": [
    "# Everything is operation!\n",
    "\n",
    "a = tf.constant(2)\n",
    "b = tf.constant(3)\n",
    "\n",
    "c = a + b\n",
    "\n",
    "print sess.run(c)\n",
    "print sess.run(a * b)"
   ]
  },
  {
   "cell_type": "code",
   "execution_count": 17,
   "metadata": {
    "collapsed": false
   },
   "outputs": [
    {
     "name": "stdout",
     "output_type": "stream",
     "text": [
      "Addition with variables: 5\n",
      "Multiplication with variables: 6\n"
     ]
    }
   ],
   "source": [
    "# placeholder\n",
    "\n",
    "# Basic Operations with variable as graph input\n",
    "# The value returned by the constructor represents the output\n",
    "# of the Variable op. (define as input when running session)\n",
    "# tf Graph input\n",
    "a = tf.placeholder(tf.int16) # 변수를 가진 기본 operations\n",
    "b = tf.placeholder(tf.int16)\n",
    "\n",
    "# 몇 가지 operations을 정의한다.\n",
    "add = tf.add(a, b)\n",
    "mul = tf.mul(a, b)\n",
    "\n",
    "# 기본 그래프를 실행한다.\n",
    "with tf.Session() as sess:\n",
    "    # 변수 입력을 가지고 각각의 operation을 실행한다.\n",
    "    print \"Addition with variables: %i\" % sess.run(add, feed_dict={a: 2, b: 3})\n",
    "    print \"Multiplication with variables: %i\" % sess.run(mul, feed_dict={a: 2, b: 3})\n",
    "    \n"
   ]
  },
  {
   "cell_type": "code",
   "execution_count": null,
   "metadata": {
    "collapsed": true
   },
   "outputs": [],
   "source": []
  }
 ],
 "metadata": {
  "kernelspec": {
   "display_name": "Python 2",
   "language": "python",
   "name": "python2"
  },
  "language_info": {
   "codemirror_mode": {
    "name": "ipython",
    "version": 2
   },
   "file_extension": ".py",
   "mimetype": "text/x-python",
   "name": "python",
   "nbconvert_exporter": "python",
   "pygments_lexer": "ipython2",
   "version": "2.7.11"
  }
 },
 "nbformat": 4,
 "nbformat_minor": 0
}
