{
 "cells": [
  {
   "cell_type": "markdown",
   "metadata": {},
   "source": [
    "# ML lec 04 - multi-variable linear regression\n",
    "\n",
    "여기서는 다변량 선형회귀분석을 실시합니다.\n"
   ]
  },
  {
   "cell_type": "code",
   "execution_count": 1,
   "metadata": {
    "collapsed": false
   },
   "outputs": [
    {
     "name": "stdout",
     "output_type": "stream",
     "text": [
      "Populating the interactive namespace from numpy and matplotlib\n"
     ]
    }
   ],
   "source": [
    "%pylab inline\n",
    "\n",
    "import tensorflow as tf\n",
    "import numpy as np\n",
    "import matplotlib.pyplot as plt"
   ]
  },
  {
   "cell_type": "code",
   "execution_count": 3,
   "metadata": {
    "collapsed": false
   },
   "outputs": [
    {
     "name": "stdout",
     "output_type": "stream",
     "text": [
      "0 0.49569 [ 1.14566898] [ 0.71541202] [ 0.25100219]\n",
      "100 2.41899e-05 [ 0.99693495] [ 0.9963634] [ 0.01165962]\n",
      "200 4.92204e-08 [ 0.99986178] [ 0.99983597] [ 0.00052598]\n",
      "300 1.00147e-10 [ 0.99999386] [ 0.99999261] [  2.37413460e-05]\n",
      "400 3.41061e-13 [ 0.99999964] [ 0.99999964] [  1.06774428e-06]\n",
      "500 4.83169e-14 [ 0.99999994] [ 0.99999994] [  1.61753746e-07]\n",
      "600 4.83169e-14 [ 0.99999994] [ 0.99999994] [  1.61753746e-07]\n",
      "700 4.83169e-14 [ 0.99999994] [ 0.99999994] [  1.61753746e-07]\n",
      "800 4.83169e-14 [ 0.99999994] [ 0.99999994] [  1.61753746e-07]\n",
      "900 4.83169e-14 [ 0.99999994] [ 0.99999994] [  1.61753746e-07]\n",
      "1000 4.83169e-14 [ 0.99999994] [ 0.99999994] [  1.61753746e-07]\n",
      "1100 4.83169e-14 [ 0.99999994] [ 0.99999994] [  1.61753746e-07]\n",
      "1200 4.83169e-14 [ 0.99999994] [ 0.99999994] [  1.61753746e-07]\n",
      "1300 4.83169e-14 [ 0.99999994] [ 0.99999994] [  1.61753746e-07]\n",
      "1400 4.83169e-14 [ 0.99999994] [ 0.99999994] [  1.61753746e-07]\n",
      "1500 4.83169e-14 [ 0.99999994] [ 0.99999994] [  1.61753746e-07]\n",
      "1600 4.83169e-14 [ 0.99999994] [ 0.99999994] [  1.61753746e-07]\n",
      "1700 4.83169e-14 [ 0.99999994] [ 0.99999994] [  1.61753746e-07]\n",
      "1800 4.83169e-14 [ 0.99999994] [ 0.99999994] [  1.61753746e-07]\n",
      "1900 4.83169e-14 [ 0.99999994] [ 0.99999994] [  1.61753746e-07]\n",
      "2000 4.83169e-14 [ 0.99999994] [ 0.99999994] [  1.61753746e-07]\n"
     ]
    }
   ],
   "source": [
    "# 이번 연습문제는 x1, x2, b를 개별 변수로 설정해서 trainig 시킨다.\n",
    "\n",
    "x1_data = [1.0, 0.0, 3.0, 0.0, 5.0]\n",
    "x2_data = [0.0, 2.0, 0.0, 4.0, 0.0]\n",
    "y_data = [1.0, 2.0, 3.0, 4.0, 5.0]\n",
    "\n",
    "# 파라미터 초기화 (구하고자 하는 대상 값임)\n",
    "W1 = tf.Variable(tf.random_uniform([1], -1.0, 1.0))\n",
    "W2 = tf.Variable(tf.random_uniform([1], -1.0, 1.0))\n",
    "\n",
    "# bias term \n",
    "b = tf.Variable(tf.random_uniform([1], -1.0, 1.0))\n",
    "\n",
    "# 가설함수 정의\n",
    "hypothesis = W1 * x1_data + W2 * x2_data + b\n",
    "\n",
    "# cost function 정의\n",
    "cost = tf.reduce_mean(tf.square(hypothesis - y_data))\n",
    "\n",
    "# 제곱합 최소화 하기\n",
    "a = tf.Variable(0.1)\n",
    "optimizer = tf.train.GradientDescentOptimizer(a)\n",
    "train = optimizer.minimize(cost)\n",
    "\n",
    "# 변수 초기화\n",
    "init = tf.initialize_all_variables()\n",
    "\n",
    "# Graph 시작\n",
    "sess = tf.Session()\n",
    "sess.run(init)\n",
    "\n",
    "for step in xrange(2001):\n",
    "    sess.run(train)\n",
    "    if step % 100 == 0:\n",
    "        print step, sess.run(cost), sess.run(W1), sess.run(W2), sess.run(b)\n",
    "\n"
   ]
  },
  {
   "cell_type": "code",
   "execution_count": 5,
   "metadata": {
    "collapsed": false
   },
   "outputs": [
    {
     "name": "stdout",
     "output_type": "stream",
     "text": [
      "(4, 5)\n",
      "(3, 5)\n",
      "(5,)\n",
      "x [[ 1.  1.  1.  1.  1.]\n",
      " [ 1.  0.  3.  0.  5.]\n",
      " [ 0.  2.  0.  4.  0.]]\n",
      "y [ 1.  2.  3.  4.  5.]\n",
      "0 2.26857 [[ 1.09325695  0.75882864 -0.04311162]]\n",
      "20 0.155319 [[ 0.93427777  0.75440556  0.7085945 ]]\n",
      "40 0.0839778 [[ 0.68698496  0.81941104  0.78573257]]\n",
      "60 0.0454051 [[ 0.50514656  0.86721122  0.8424471 ]]\n",
      "80 0.0245497 [[ 0.37143907  0.90235913  0.88414985]]\n",
      "100 0.0132735 [[ 0.27312273  0.92820376  0.91481429]]\n",
      "120 0.00717673 [[ 0.2008297   0.94720757  0.93736213]]\n",
      "140 0.0038803 [[ 0.14767197  0.96118122  0.95394182]]\n",
      "160 0.00209801 [[ 0.10858463  0.97145617  0.96613294]]\n",
      "180 0.00113435 [[ 0.07984329  0.97901142  0.97509724]]\n",
      "200 0.000613322 [[ 0.05870956  0.98456693  0.98168874]]\n",
      "220 0.00033161 [[ 0.04316967  0.98865193  0.98653561]]\n",
      "240 0.000179294 [[ 0.03174304  0.99165565  0.99009949]]\n",
      "260 9.69413e-05 [[ 0.02334094  0.9938643   0.99272007]]\n",
      "280 5.24143e-05 [[ 0.01716282  0.99548841  0.99464703]]\n",
      "300 2.83387e-05 [[ 0.01261996  0.99668252  0.99606389]]\n",
      "320 1.5322e-05 [[ 0.00927956  0.99756068  0.99710578]]\n",
      "340 8.28435e-06 [[ 0.00682334  0.99820632  0.99787182]]\n",
      "360 4.47908e-06 [[ 0.00501727  0.99868113  0.99843514]]\n",
      "380 2.42191e-06 [[ 0.00368923  0.99903023  0.99884933]]\n",
      "400 1.30947e-06 [[ 0.00271272  0.99928689  0.99915391]]\n",
      "420 7.07968e-07 [[ 0.00199467  0.99947566  0.99937791]]\n",
      "440 3.8274e-07 [[ 0.00146669  0.99961442  0.99954253]]\n",
      "460 2.06907e-07 [[ 0.00107848  0.99971646  0.99966359]]\n",
      "480 1.11876e-07 [[  7.93026178e-04   9.99791503e-01   9.99752641e-01]]\n"
     ]
    },
    {
     "data": {
      "text/plain": [
       "[<matplotlib.lines.Line2D at 0x7f49218dd550>]"
      ]
     },
     "execution_count": 5,
     "metadata": {},
     "output_type": "execute_result"
    },
    {
     "data": {
      "image/png": "[encoded data removed]",
      "text/plain": [
       "<matplotlib.figure.Figure at 0x7f4921b51b90>"
      ]
     },
     "metadata": {},
     "output_type": "display_data"
    }
   ],
   "source": [
    "\n",
    "# 이번 연습문제는 x1, x2, b를 행렬로 취급한다.\n",
    "\"\"\"\n",
    "x_data = [[1, 1, 1, 1, 1],\n",
    "    [1.0, 0.0, 3.0, 0.0, 5.0],\n",
    "    [0.0, 2.0, 0.0, 4.0, 0.0]]\n",
    "\n",
    "y_data = [1.0, 2.0, 3.0, 4.0, 5.0]\n",
    "\n",
    "x_data = np.asarray(x_data)\n",
    "print x_data.shape\n",
    "\n",
    "\"\"\"\n",
    "# XXX: unpack=True => mxn 행렬을 전치시켜서 nxm행렬로 데이터를 로딩한다.\n",
    "\n",
    "# OK\n",
    "#xy = np.loadtxt('train.txt', dtype='float32')\n",
    "#xy = xy.T\n",
    "\n",
    "# OK, bias가 포함되어 있다. (biax, x1, x2, y)\n",
    "xy = np.loadtxt('train.txt', unpack=True, dtype='float32')\n",
    "\n",
    "x_data = xy[0:-1]\n",
    "y_data = xy[-1]\n",
    "\n",
    "\"\"\"\n",
    "(4, 5)\n",
    "(3, 5)\n",
    "(5,)\n",
    "\"\"\"\n",
    "print xy.shape\n",
    "print x_data.shape\n",
    "print y_data.shape\n",
    "\n",
    "print 'x', x_data\n",
    "print 'y', y_data\n",
    "n = x_data.shape[0] # feature 수\n",
    "\n",
    "# X,Y 에 대한 placeholder 선언\n",
    "X = tf.placeholder(tf.float32)\n",
    "Y = tf.placeholder(tf.float32)\n",
    "\n",
    "# 파라미터 초기화 (구하고자 하는 대상 값임)\n",
    "W = tf.Variable(tf.random_uniform([1, n], -1.0, 1.0))\n",
    "\n",
    "# 가설함수 정의\n",
    "hypothesis = tf.matmul(W, X)\n",
    "#hypothesis = W * X\n",
    "\n",
    "# cost function 정의\n",
    "cost = tf.reduce_mean(tf.square(hypothesis - Y))\n",
    "\n",
    "# 제곱합 최소화 하기\n",
    "# learning rate alpha 값을 다르게 하면서 cost J의 변화 정도를 \n",
    "# 그래프로 확인해본다.\n",
    "a = tf.Variable(0.05)\n",
    "optimizer = tf.train.GradientDescentOptimizer(a)\n",
    "train = optimizer.minimize(cost)\n",
    "\n",
    "# 변수 초기화\n",
    "init = tf.initialize_all_variables()\n",
    "\n",
    "# Graph 시작\n",
    "sess = tf.Session()\n",
    "sess.run(init)\n",
    "\n",
    "# cost function이 최소가 되는 파라미터 W를 찾는다.\n",
    "step_val = []\n",
    "cost_val = []\n",
    "for step in xrange(500):\n",
    "    sess.run(train, feed_dict = {X: x_data, Y: y_data})\n",
    "    if step % 20 == 0:\n",
    "        print step, sess.run(cost, feed_dict = {X: x_data, Y: y_data})  \\\n",
    "            , sess.run(W, feed_dict = {X: x_data, Y: y_data})\n",
    "    \n",
    "    step_val.append(step)\n",
    "    cost_val.append(sess.run(cost, feed_dict = {X: x_data, Y: y_data}))\n",
    "\n",
    "plt.plot(step_val, cost_val, 'r-')"
   ]
  }
 ],
 "metadata": {
  "kernelspec": {
   "display_name": "Python 2",
   "language": "python",
   "name": "python2"
  },
  "language_info": {
   "codemirror_mode": {
    "name": "ipython",
    "version": 2
   },
   "file_extension": ".py",
   "mimetype": "text/x-python",
   "name": "python",
   "nbconvert_exporter": "python",
   "pygments_lexer": "ipython2",
   "version": "2.7.11"
  }
 },
 "nbformat": 4,
 "nbformat_minor": 0
}
