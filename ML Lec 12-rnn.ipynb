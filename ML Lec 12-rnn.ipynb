{
 "cells": [
  {
   "cell_type": "markdown",
   "metadata": {},
   "source": [
    "# lab12: TensorFlow에서 RNN 구현하기\n",
    "\n",
    "Date: 2016-05-29\n",
    "\n",
    "참고자료: 김성훈교수님의 [lab12: TensorFlow에서 RNN 구현하기](https://youtu.be/A8wJYfDUYCk)\n",
    "\n",
    "강의 내용의 소스코드를 그대로 이용함. 전혀 수정 없음. rnn 에는 이상하게 관심이 가질 않는다. 이유를 잘 모르겠다. -_-;\n"
   ]
  },
  {
   "cell_type": "code",
   "execution_count": 1,
   "metadata": {
    "collapsed": true
   },
   "outputs": [],
   "source": [
    "import tensorflow as tf\n",
    "from tensorflow.models.rnn import rnn, rnn_cell\n",
    "import numpy as np"
   ]
  },
  {
   "cell_type": "code",
   "execution_count": 4,
   "metadata": {
    "collapsed": false
   },
   "outputs": [
    {
     "name": "stdout",
     "output_type": "stream",
     "text": [
      "[0, 1, 2, 2, 3]\n"
     ]
    }
   ],
   "source": [
    "char_rdic = ['h', 'e', 'l', 'o']\n",
    "char_dic = {w:i for i, w in enumerate(char_rdic)}\n",
    "x_data = np.array([[1, 0,0,0], # h\n",
    "                  [0,1,0,0], # e\n",
    "                  [0,0,1,0], # l\n",
    "                  [0,0,1,0]], # l\n",
    "                  dtype='f')\n",
    "\n",
    "sample = [char_dic[c] for c in \"hello\"] # to index\n",
    "\n",
    "print sample"
   ]
  },
  {
   "cell_type": "code",
   "execution_count": 5,
   "metadata": {
    "collapsed": true
   },
   "outputs": [],
   "source": [
    "# configuration\n",
    "char_vocab_size = len(char_dic)\n",
    "rnn_size = char_vocab_size # 1 hot coding (one of 4)\n",
    "time_step_size = 4 # 'hell' -> predict 'ello'\n",
    "batch_size = 1 # one sample\n"
   ]
  },
  {
   "cell_type": "code",
   "execution_count": 6,
   "metadata": {
    "collapsed": true
   },
   "outputs": [],
   "source": [
    "# RNN model\n",
    "rnn_cell = rnn_cell.BasicRNNCell(rnn_size)\n",
    "state = tf.zeros([batch_size, rnn_cell.state_size])\n",
    "X_split = tf.split(0, time_step_size, x_data)\n",
    "outputs, state = rnn.rnn(rnn_cell, X_split, state)\n"
   ]
  },
  {
   "cell_type": "code",
   "execution_count": 9,
   "metadata": {
    "collapsed": false
   },
   "outputs": [],
   "source": [
    "# logits: list of 2D Tensors of shape [batch_size x num_decoder_symbols].\n",
    "# targets: list of 1D batch-sized int32 Tensors of the same length as logits.\n",
    "# weights: list of 1D batch-sized float-Tensors of the same length as logits.\n",
    "logits = tf.reshape(tf.concat(1, outputs), [-1, rnn_size])\n",
    "targets = tf.reshape(sample[1:],[-1])\n",
    "weights = tf.ones([time_step_size * batch_size])\n",
    "\n",
    "loss = tf.nn.seq2seq.sequence_loss_by_example([logits], [targets], [weights])\n",
    "cost = tf.reduce_sum(loss) / batch_size\n",
    "train_op = tf.train.RMSPropOptimizer(0.01, 0.9).minimize(cost)\n"
   ]
  },
  {
   "cell_type": "code",
   "execution_count": 11,
   "metadata": {
    "collapsed": false
   },
   "outputs": [
    {
     "name": "stdout",
     "output_type": "stream",
     "text": [
      "(array([3, 1, 0, 0]), ['o', 'e', 'h', 'h'])\n",
      "(array([3, 1, 0, 0]), ['o', 'e', 'h', 'h'])\n",
      "(array([3, 1, 0, 0]), ['o', 'e', 'h', 'h'])\n",
      "(array([3, 1, 0, 0]), ['o', 'e', 'h', 'h'])\n",
      "(array([3, 1, 0, 0]), ['o', 'e', 'h', 'h'])\n",
      "(array([3, 1, 0, 3]), ['o', 'e', 'h', 'o'])\n",
      "(array([3, 1, 0, 3]), ['o', 'e', 'h', 'o'])\n",
      "(array([3, 1, 0, 3]), ['o', 'e', 'h', 'o'])\n",
      "(array([3, 1, 0, 3]), ['o', 'e', 'h', 'o'])\n",
      "(array([3, 1, 0, 3]), ['o', 'e', 'h', 'o'])\n",
      "(array([3, 1, 0, 3]), ['o', 'e', 'h', 'o'])\n",
      "(array([3, 1, 0, 3]), ['o', 'e', 'h', 'o'])\n",
      "(array([3, 1, 0, 3]), ['o', 'e', 'h', 'o'])\n",
      "(array([3, 1, 0, 3]), ['o', 'e', 'h', 'o'])\n",
      "(array([2, 1, 0, 3]), ['l', 'e', 'h', 'o'])\n",
      "(array([2, 1, 0, 3]), ['l', 'e', 'h', 'o'])\n",
      "(array([2, 1, 0, 3]), ['l', 'e', 'h', 'o'])\n",
      "(array([2, 1, 0, 3]), ['l', 'e', 'h', 'o'])\n",
      "(array([2, 1, 0, 3]), ['l', 'e', 'h', 'o'])\n",
      "(array([2, 1, 0, 3]), ['l', 'e', 'h', 'o'])\n",
      "(array([2, 1, 0, 3]), ['l', 'e', 'h', 'o'])\n",
      "(array([2, 1, 0, 3]), ['l', 'e', 'h', 'o'])\n",
      "(array([2, 1, 2, 3]), ['l', 'e', 'l', 'o'])\n",
      "(array([2, 1, 2, 3]), ['l', 'e', 'l', 'o'])\n",
      "(array([2, 1, 2, 3]), ['l', 'e', 'l', 'o'])\n",
      "(array([2, 1, 2, 3]), ['l', 'e', 'l', 'o'])\n",
      "(array([2, 1, 2, 3]), ['l', 'e', 'l', 'o'])\n",
      "(array([2, 1, 2, 3]), ['l', 'e', 'l', 'o'])\n",
      "(array([2, 1, 2, 3]), ['l', 'e', 'l', 'o'])\n",
      "(array([2, 1, 2, 3]), ['l', 'e', 'l', 'o'])\n",
      "(array([2, 1, 2, 3]), ['l', 'e', 'l', 'o'])\n",
      "(array([2, 1, 2, 3]), ['l', 'e', 'l', 'o'])\n",
      "(array([2, 1, 2, 3]), ['l', 'e', 'l', 'o'])\n",
      "(array([2, 1, 2, 3]), ['l', 'e', 'l', 'o'])\n",
      "(array([2, 1, 2, 3]), ['l', 'e', 'l', 'o'])\n",
      "(array([2, 1, 2, 3]), ['l', 'e', 'l', 'o'])\n",
      "(array([2, 1, 2, 3]), ['l', 'e', 'l', 'o'])\n",
      "(array([2, 1, 2, 3]), ['l', 'e', 'l', 'o'])\n",
      "(array([2, 1, 2, 3]), ['l', 'e', 'l', 'o'])\n",
      "(array([2, 1, 2, 3]), ['l', 'e', 'l', 'o'])\n",
      "(array([2, 1, 2, 3]), ['l', 'e', 'l', 'o'])\n",
      "(array([2, 1, 2, 3]), ['l', 'e', 'l', 'o'])\n",
      "(array([2, 1, 2, 3]), ['l', 'e', 'l', 'o'])\n",
      "(array([2, 2, 2, 3]), ['l', 'l', 'l', 'o'])\n",
      "(array([2, 2, 2, 3]), ['l', 'l', 'l', 'o'])\n",
      "(array([2, 2, 2, 3]), ['l', 'l', 'l', 'o'])\n",
      "(array([2, 2, 2, 3]), ['l', 'l', 'l', 'o'])\n",
      "(array([2, 2, 2, 3]), ['l', 'l', 'l', 'o'])\n",
      "(array([2, 2, 2, 3]), ['l', 'l', 'l', 'o'])\n",
      "(array([2, 2, 2, 3]), ['l', 'l', 'l', 'o'])\n",
      "(array([2, 2, 2, 3]), ['l', 'l', 'l', 'o'])\n",
      "(array([2, 2, 2, 3]), ['l', 'l', 'l', 'o'])\n",
      "(array([1, 2, 2, 3]), ['e', 'l', 'l', 'o'])\n",
      "(array([1, 2, 2, 3]), ['e', 'l', 'l', 'o'])\n",
      "(array([1, 2, 2, 3]), ['e', 'l', 'l', 'o'])\n",
      "(array([1, 2, 2, 3]), ['e', 'l', 'l', 'o'])\n",
      "(array([1, 2, 2, 3]), ['e', 'l', 'l', 'o'])\n",
      "(array([1, 2, 2, 3]), ['e', 'l', 'l', 'o'])\n",
      "(array([1, 2, 2, 3]), ['e', 'l', 'l', 'o'])\n",
      "(array([1, 2, 2, 3]), ['e', 'l', 'l', 'o'])\n",
      "(array([1, 2, 2, 3]), ['e', 'l', 'l', 'o'])\n",
      "(array([1, 2, 2, 3]), ['e', 'l', 'l', 'o'])\n",
      "(array([1, 2, 2, 3]), ['e', 'l', 'l', 'o'])\n",
      "(array([1, 2, 2, 3]), ['e', 'l', 'l', 'o'])\n",
      "(array([1, 2, 2, 3]), ['e', 'l', 'l', 'o'])\n",
      "(array([1, 2, 2, 3]), ['e', 'l', 'l', 'o'])\n",
      "(array([1, 2, 2, 3]), ['e', 'l', 'l', 'o'])\n",
      "(array([1, 2, 2, 3]), ['e', 'l', 'l', 'o'])\n",
      "(array([1, 2, 2, 3]), ['e', 'l', 'l', 'o'])\n",
      "(array([1, 2, 2, 3]), ['e', 'l', 'l', 'o'])\n",
      "(array([1, 2, 2, 3]), ['e', 'l', 'l', 'o'])\n",
      "(array([1, 2, 2, 3]), ['e', 'l', 'l', 'o'])\n",
      "(array([1, 2, 2, 3]), ['e', 'l', 'l', 'o'])\n",
      "(array([1, 2, 2, 3]), ['e', 'l', 'l', 'o'])\n",
      "(array([1, 2, 2, 3]), ['e', 'l', 'l', 'o'])\n",
      "(array([1, 2, 2, 3]), ['e', 'l', 'l', 'o'])\n",
      "(array([1, 2, 2, 3]), ['e', 'l', 'l', 'o'])\n",
      "(array([1, 2, 2, 3]), ['e', 'l', 'l', 'o'])\n",
      "(array([1, 2, 2, 3]), ['e', 'l', 'l', 'o'])\n",
      "(array([1, 2, 2, 3]), ['e', 'l', 'l', 'o'])\n",
      "(array([1, 2, 2, 3]), ['e', 'l', 'l', 'o'])\n",
      "(array([1, 2, 2, 3]), ['e', 'l', 'l', 'o'])\n",
      "(array([1, 2, 2, 3]), ['e', 'l', 'l', 'o'])\n",
      "(array([1, 2, 2, 3]), ['e', 'l', 'l', 'o'])\n",
      "(array([1, 2, 2, 3]), ['e', 'l', 'l', 'o'])\n",
      "(array([1, 2, 2, 3]), ['e', 'l', 'l', 'o'])\n",
      "(array([1, 2, 2, 3]), ['e', 'l', 'l', 'o'])\n",
      "(array([1, 2, 2, 3]), ['e', 'l', 'l', 'o'])\n",
      "(array([1, 2, 2, 3]), ['e', 'l', 'l', 'o'])\n",
      "(array([1, 2, 2, 3]), ['e', 'l', 'l', 'o'])\n",
      "(array([1, 2, 2, 3]), ['e', 'l', 'l', 'o'])\n",
      "(array([1, 2, 2, 3]), ['e', 'l', 'l', 'o'])\n",
      "(array([1, 2, 2, 3]), ['e', 'l', 'l', 'o'])\n",
      "(array([1, 2, 2, 3]), ['e', 'l', 'l', 'o'])\n",
      "(array([1, 2, 2, 3]), ['e', 'l', 'l', 'o'])\n",
      "(array([1, 2, 2, 3]), ['e', 'l', 'l', 'o'])\n",
      "(array([1, 2, 2, 3]), ['e', 'l', 'l', 'o'])\n",
      "(array([1, 2, 2, 3]), ['e', 'l', 'l', 'o'])\n",
      "(array([1, 2, 2, 3]), ['e', 'l', 'l', 'o'])\n",
      "(array([1, 2, 2, 3]), ['e', 'l', 'l', 'o'])\n"
     ]
    }
   ],
   "source": [
    "# Launch the graph in a session\n",
    "with tf.Session() as sess:\n",
    "    # you need to initialize all variables\n",
    "    tf.initialize_all_variables().run()\n",
    "    for i in range(100):\n",
    "        sess.run(train_op)\n",
    "        result = sess.run(tf.arg_max(logits, 1))\n",
    "        print (result, [char_rdic[t] for t in result])"
   ]
  },
  {
   "cell_type": "code",
   "execution_count": null,
   "metadata": {
    "collapsed": true
   },
   "outputs": [],
   "source": []
  }
 ],
 "metadata": {
  "kernelspec": {
   "display_name": "Python 2",
   "language": "python",
   "name": "python2"
  },
  "language_info": {
   "codemirror_mode": {
    "name": "ipython",
    "version": 2
   },
   "file_extension": ".py",
   "mimetype": "text/x-python",
   "name": "python",
   "nbconvert_exporter": "python",
   "pygments_lexer": "ipython2",
   "version": "2.7.11"
  }
 },
 "nbformat": 4,
 "nbformat_minor": 0
}
