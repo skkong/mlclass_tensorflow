{
 "cells": [
  {
   "cell_type": "markdown",
   "metadata": {
    "collapsed": true
   },
   "source": [
    "# Lecture 07 - lab - 학습 rate, training/test 셋으로 성능평가\n",
    "\n",
    "```\n",
    "by Seokkyu Kong\n",
    "Date: 2016-05-08\n",
    "```\n",
    "\n",
    "참고 자료: [모두를 위한 머신러닝/딥러닝 강의 - 홍콩과기대 김성훈교수님](http://hunkim.github.io/ml/)\n",
    "\n",
    "참고 자료: ML lab 07 - 학습 rate, training/test 셋으로 성능평가\n",
    "https://youtu.be/1vCOoBwYQVU\n",
    "\n",
    "참고 자료: https://www.tensorflow.org/versions/r0.7/tutorials/mnist/beginners/index.html\n",
    "\n",
    "\n",
    "Softmax regression model을 이용해서 tensorflow 의 필기체 숫자 인식 프로그램을 테스트해본다.\n",
    "\n",
    "코드의 대부분은 강좌 랩에 나와 있는 부분을 인용했고, 강좌에 full source code가 없어서 tensorflow 홈페이지를 참조했다.\n",
    "\n",
    "MNIST는 필기체 숫자 이미지 데이터 셋이다. 55000 개의 training set, 10000개의 test set, 5000개의 validation set으로 구성된다.\n",
    "\n",
    "하나의 이미지는 28x28 크기를 갖는 이진 이미지이다.\n",
    "\n"
   ]
  },
  {
   "cell_type": "code",
   "execution_count": 1,
   "metadata": {
    "collapsed": false
   },
   "outputs": [
    {
     "name": "stdout",
     "output_type": "stream",
     "text": [
      "Populating the interactive namespace from numpy and matplotlib\n"
     ]
    }
   ],
   "source": [
    "%pylab inline\n",
    "\n",
    "import tensorflow as tf\n",
    "import numpy as np\n",
    "import matplotlib.pyplot as plt\n",
    "\n",
    "\n",
    "# anaconda에 설치된 tensorflow 예제 mnist example에 대한 경로명을 추가한다.\n",
    "import sys\n",
    "sys.path.insert(1, '/root/anaconda2/lib/python2.7/site-packages/tensorflow/examples/tutorials/mnist')\n",
    "\n"
   ]
  },
  {
   "cell_type": "code",
   "execution_count": 2,
   "metadata": {
    "collapsed": false
   },
   "outputs": [
    {
     "name": "stdout",
     "output_type": "stream",
     "text": [
      "Extracting MNIST_data/train-images-idx3-ubyte.gz\n",
      "Extracting MNIST_data/train-labels-idx1-ubyte.gz\n",
      "Extracting MNIST_data/t10k-images-idx3-ubyte.gz\n",
      "Extracting MNIST_data/t10k-labels-idx1-ubyte.gz\n"
     ]
    }
   ],
   "source": [
    "## Part 1: 이미지 데이터 로드\n",
    "# -----------------------------\n",
    "from tensorflow.examples.tutorials.mnist import input_data\n",
    "mnist = input_data.read_data_sets(\"MNIST_data/\", one_hot=True)"
   ]
  },
  {
   "cell_type": "code",
   "execution_count": 3,
   "metadata": {
    "collapsed": false
   },
   "outputs": [
    {
     "name": "stdout",
     "output_type": "stream",
     "text": [
      "[[ 0.  0.  0.  0.  0.  0.  0.  1.  0.  0.]\n",
      " [ 0.  0.  0.  1.  0.  0.  0.  0.  0.  0.]\n",
      " [ 0.  0.  0.  0.  1.  0.  0.  0.  0.  0.]\n",
      " [ 0.  0.  0.  0.  0.  0.  1.  0.  0.  0.]\n",
      " [ 0.  1.  0.  0.  0.  0.  0.  0.  0.  0.]]\n"
     ]
    }
   ],
   "source": [
    "print mnist.train.labels[0:5, :]"
   ]
  },
  {
   "cell_type": "code",
   "execution_count": 4,
   "metadata": {
    "collapsed": true
   },
   "outputs": [],
   "source": [
    "## Part 2: 변수, 가설함수, cost function 및 gradient descent 정의\n",
    "# ----------------------------------------------------------------\n",
    "# 변수 선언\n",
    "X = tf.placeholder(tf.float32, [None, 784]) # bias term 제외, 하나의 이미지는 28x28이다.\n",
    "Y = tf.placeholder(tf.float32, [None, 10]) # one-hot encoding 때문에 10개로 선언한다.\n",
    "\n",
    "# 모델의 파라미터 선언\n",
    "W = tf.Variable(tf.random_uniform([784, 10], -1.0, 1.0))\n",
    "b = tf.Variable(tf.random_uniform([10]))\n",
    "\n",
    "\n",
    "# 가설함수 정의\n",
    "activation = tf.nn.softmax(tf.matmul(X, W) + b)\n",
    "\n",
    "\n",
    "# cost function 정의\n",
    "cost = tf.reduce_mean(-tf.reduce_sum(Y * tf.log(activation), reduction_indices=1))\n",
    "\n",
    "\n",
    "# gradient descent를 위한 optimize 정의\n",
    "# XXX: learning_rate도 변수로 선언해서 알파값이 달라질 경우의 비용곡선을 체크한다.\n",
    "#learning_rate = tf.Variable(1.0)\n",
    "learning_rate = tf.placeholder(tf.float32)\n",
    "optimizer = tf.train.GradientDescentOptimizer(learning_rate)\n",
    "train = optimizer.minimize(cost)\n"
   ]
  },
  {
   "cell_type": "code",
   "execution_count": 5,
   "metadata": {
    "collapsed": false
   },
   "outputs": [
    {
     "name": "stdout",
     "output_type": "stream",
     "text": [
      "Epoch: 0001 , cost =  0.430522841 \n",
      "Epoch: 0003 , cost =  0.243472192 \n",
      "Epoch: 0005 , cost =  0.221026059 \n",
      "Epoch: 0007 , cost =  0.210687438 \n",
      "Epoch: 0009 , cost =  0.203573529 \n",
      "Epoch: 0011 , cost =  0.199784888 \n",
      "Epoch: 0013 , cost =  0.195162297 \n",
      "Epoch: 0015 , cost =  0.193463782 \n",
      "Epoch: 0017 , cost =  0.190524402 \n",
      "Epoch: 0019 , cost =  0.189238796 \n",
      "Optimizaiton finishied.\n"
     ]
    },
    {
     "data": {
      "text/plain": [
       "[<matplotlib.lines.Line2D at 0x7fdb060cc150>]"
      ]
     },
     "execution_count": 5,
     "metadata": {},
     "output_type": "execute_result"
    },
    {
     "data": {
      "image/png": "[encoded data removed]",
      "text/plain": [
       "<matplotlib.figure.Figure at 0x7fdb29a42dd0>"
      ]
     },
     "metadata": {},
     "output_type": "display_data"
    }
   ],
   "source": [
    "## Part 3: training dataset\n",
    "# batch로 트레이닝한다.\n",
    "# ------------------------------\n",
    "\n",
    "# 변수 초기화 및 그래프 시작\n",
    "init = tf.initialize_all_variables()\n",
    "sess = tf.Session()\n",
    "sess.run(init)\n",
    "\n",
    "# Using small batches of random data is called stochastic training\n",
    "# 작은 배치 사이즈로 트레이닝한다. 이것은 stochastic training이라고도 한다.\n",
    "# 전체 데이터로 하면 정확도가 높긴하지만, 비용이 많이 든다. \n",
    "\n",
    "# 아래 변수들을 적당히 조정해야 한다.\n",
    "training_epochs = 20 # 전체 트레이닝 반복 횟수\n",
    "batch_size = 100 # 한 번에 처리하는 데이터 사이즈\n",
    "display_step = 2 # progress 표시\n",
    "my_alpha = 1.0 # learning rate 알파벳 조정\n",
    "arr_J = np.zeros(training_epochs) # cost 저장\n",
    "\n",
    "# training 반복횟수만큼 루프실행\n",
    "for epoch in range(training_epochs):\n",
    "    avg_cost = 0;\n",
    "    total_batch = int(mnist.train.num_examples / batch_size)\n",
    "    \n",
    "    # 전체 배치 수를 결정하고 각 배치에 대해서 루프를 실행한다.\n",
    "    for i in range(total_batch):\n",
    "        batch_xs, batch_ys = mnist.train.next_batch(batch_size)\n",
    "        sess.run(train, feed_dict={X: batch_xs, Y: batch_ys, learning_rate: my_alpha})\n",
    "    \n",
    "        # cost를 계산한다.\n",
    "        avg_cost += sess.run(cost, feed_dict = {X: batch_xs, Y: batch_ys, learning_rate: my_alpha}) / total_batch\n",
    "    \n",
    "    if epoch % display_step == 0:\n",
    "        print \"Epoch: %04d\" % (epoch + 1), \", cost = \", \"{:.9f} \".format(avg_cost)\n",
    "    \n",
    "    # cost를 plot한다.\n",
    "    arr_J[epoch] = avg_cost\n",
    "\n",
    "print \"Optimizaiton finishied.\"\n",
    "plot(arr_J, 'r--')\n",
    "\n",
    "\n"
   ]
  },
  {
   "cell_type": "code",
   "execution_count": 6,
   "metadata": {
    "collapsed": false
   },
   "outputs": [
    {
     "name": "stdout",
     "output_type": "stream",
     "text": [
      "Label:  [9]\n",
      "Prediction:  [9]\n"
     ]
    },
    {
     "data": {
      "image/png": "[encoded data removed]",
      "text/plain": [
       "<matplotlib.figure.Figure at 0x7fdb0863ebd0>"
      ]
     },
     "metadata": {},
     "output_type": "display_data"
    },
    {
     "name": "stdout",
     "output_type": "stream",
     "text": [
      "Accuracy:  91.9799983501\n"
     ]
    }
   ],
   "source": [
    "## Part 4: Predict & Show\n",
    "# test set에서 임의로 하나의 이미지를 선택하고 예측한다.\n",
    "# -----------------------------------------------------\n",
    "# image를 보여준다.\n",
    "r = randint(0, mnist.test.num_examples - 1)\n",
    "# XXX: labels[r:r+1] 은 2차원 배열(행렬)로 반환한다. labels[r]은 1차원 벡터를 반환한다.\n",
    "print \"Label: \", sess.run(tf.argmax(mnist.test.labels[r:r+1], 1))\n",
    "print \"Prediction: \", sess.run(tf.argmax(activation, 1), feed_dict = {X: mnist.test.images[r:r+1]})\n",
    "\n",
    "# 이미지 출력\n",
    "#plt.set_cmap('gray')\n",
    "plt.imshow(mnist.test.images[r:r+1].reshape(28, 28), cmap=\"gray\", interpolation=\"nearest\")\n",
    "plt.show()\n",
    "\n",
    "\n",
    "\n",
    "## Part 4: test set에 대한 모델의 정확도를 계산한다.\n",
    "# -----------------------------------------------------\n",
    "\n",
    "# Test 모델 구축\n",
    "# activation은 모델이 예측한 값을 가지고 있고, Y는 실제 label의 값이다.\n",
    "# tf.argmax() 함수는 임의의 축(가로 또는 세로)에 대한 가장 높은 값을 갖는 인덱스를 반환한다.\n",
    "correct_prediction = tf.equal(tf.argmax(activation,1), tf.argmax(Y,1))\n",
    "# correct_prediction은 [True, False]와 같은 boolean 값을 갖는다. float으로 형변환 하면\n",
    "# 1, 0 으로 바뀌게 되고 평균을 취한다.\n",
    "accuracy = tf.reduce_mean(tf.cast(correct_prediction, tf.float32))\n",
    "\n",
    "# 정확도를 계산한다.\n",
    "print \"Accuracy: \", sess.run(accuracy, feed_dict={X: mnist.test.images, Y: mnist.test.labels}) * 100\n",
    "#print \"Accuracy: \", accuracy.eval({X: mnist.test.images, Y: mnist.test.labels})\n",
    "\n"
   ]
  },
  {
   "cell_type": "code",
   "execution_count": null,
   "metadata": {
    "collapsed": true
   },
   "outputs": [],
   "source": []
  }
 ],
 "metadata": {
  "kernelspec": {
   "display_name": "Python 2",
   "language": "python",
   "name": "python2"
  },
  "language_info": {
   "codemirror_mode": {
    "name": "ipython",
    "version": 2
   },
   "file_extension": ".py",
   "mimetype": "text/x-python",
   "name": "python",
   "nbconvert_exporter": "python",
   "pygments_lexer": "ipython2",
   "version": "2.7.11"
  }
 },
 "nbformat": 4,
 "nbformat_minor": 0
}
