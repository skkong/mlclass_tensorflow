{
 "cells": [
  {
   "cell_type": "markdown",
   "metadata": {
    "collapsed": false
   },
   "source": [
    "# tensorboard 사용하기\n",
    "\n",
    "실습환경\n",
    "\n",
    "- OS: Ubuntu 14.04.3\n",
    "- anaconda ver: 2.5.0\n",
    "- ipython ver: 4.0.3\n",
    "- python ver: 2.7.11\n",
    "- tensorflow ver: 0.7.1\n",
    "\n",
    "\n",
    "참조 강의\n",
    "\n",
    "- 김성훈교수님 [lab9-2: Tensor Board로 딥네트웍 들여다보기](https://youtu.be/eDKxY5Z5dVQ)\n",
    "- [구글 tensorflow 사이트](https://www.tensorflow.org/versions/r0.8/how_tos/summaries_and_tensorboard/index.html)\n",
    "\n",
    "\n",
    "## 기술노트: \n",
    "\n",
    "### 1. tensorboard 실행 오류\n",
    "\n",
    "오류 해결 참조문서: http://stackoverflow.com/questions/36615004/tensorflow-visualizer-tensorboard-not-working-under-anaconda\n",
    "\n",
    "아나콘다에서 tensorboard 실행하면 다음과 같은 오류가 발생한다.\n",
    "\n",
    "```\n",
    "# tensorboard --logdir=./logs/test\n",
    "Traceback (most recent call last):\n",
    "  File \"/root/anaconda2/bin/tensorboard\", line 4, in <module>\n",
    "    import tensorflow.tensorboard.tensorboard\n",
    "ImportError: No module named tensorboard\n",
    "```\n",
    "\n",
    "이것은 anaconda에서 tensorboard.py가 backend/ 디렉토리 밑에 설치되기 때문에 발생하는 오류이다.\n",
    "\n",
    "다음과 같이 실행하면 오류가 나지 않는다.\n",
    "\n",
    "```\n",
    "# python /root/anaconda2/lib/python2.7/site-packages/tensorflow/tensorboard/backend/tensorboard.py --logdir=./logs/test\n",
    "```\n",
    " \n",
    "또는 tensorboard.py를 tensorflow/tensorboard/ 디렉토리에 복사한다.\n",
    "\n",
    "```\n",
    "# cp /root/anaconda2/lib/python2.7/site-packages/tensorflow/tensorboard/backend/tensorboard.py /root/anaconda2/lib/python2.7/site-packages/tensorflow/tensorboard/\n",
    "# tensorboard --logdir=.logs/test \n",
    "```\n",
    "\n",
    "브라우저에서 실행 후 tensorboard 내용을 확인한다.\n",
    "\n",
    "http://[서버ip]:6006/\n",
    "\n",
    "\n",
    "### 2. tf.merge_all_summaires() 사용에 대해서\n",
    "\n",
    "아래와 같은 오류가 발생할 수 있다.\n",
    "```\n",
    "merged = tf.merge_all_summaries()\n",
    "\n",
    "InvalidArgumentError: You must feed a value for placeholder tensor 'Placeholder' with dtype float\n",
    "\t [[Node: Placeholder = Placeholder[dtype=DT_FLOAT, shape=[], _device=\"/job:localhost/replica:0/task:0/cpu:0\"]()]]\n",
    "```\n",
    "\n",
    "http://stackoverflow.com/questions/35413618/tensorflow-placeholder-error-when-using-tf-merge-all-summaries\n",
    "\n",
    "를 참조해서 tf.merge_summary() 함수를 사용하도록 한다.\n",
    "\n",
    "### 3. 기타 주의 사항\n",
    "\n",
    "- safari ver 6.1.6 에서 tensorboard의 내용은 제대로 보여지지 않는다. \n",
    "- chrome 49.0.x 이상에서는 정상적으로 보여진다.\n",
    "\n",
    "\n",
    "\n"
   ]
  },
  {
   "cell_type": "code",
   "execution_count": 6,
   "metadata": {
    "collapsed": false
   },
   "outputs": [
    {
     "name": "stdout",
     "output_type": "stream",
     "text": [
      "Populating the interactive namespace from numpy and matplotlib\n",
      "done!\n"
     ]
    },
    {
     "name": "stderr",
     "output_type": "stream",
     "text": [
      "WARNING: pylab import has clobbered these variables: ['step', 'add']\n",
      "`%matplotlib` prevents importing * from pylab and numpy\n"
     ]
    }
   ],
   "source": [
    "%pylab inline\n",
    "\n",
    "import tensorflow as tf\n",
    "import numpy as np\n",
    "\n",
    "# 파라미터 선언\n",
    "X = tf.placeholder(tf.float32)\n",
    "Y = tf.placeholder(tf.float32)\n",
    "\n",
    "add = tf.add(X, Y)\n",
    "mul = tf.mul(X, Y)\n",
    "\n",
    "# ----------------------------------------\n",
    "# step 1: 주석을 달고 싶은 node를 선택한다.\n",
    "# scalar_summary, histogram_summary 함수가 있다.\n",
    "add_hist = tf.scalar_summary(\"add_scalar\", add)\n",
    "mul_hist = tf.scalar_summary(\"mul_scalar\", mul)\n",
    "\n",
    "\n",
    "# ----------------------------------------\n",
    "# step 2: 모든 summary를 합친다.\n",
    "#tf.reset_default_graph() => 사용하면 안된다.\n",
    "\n",
    "# 아래 사용은 오류가 발생할 수 있다.\n",
    "#merged = tf.merge_all_summaries()\n",
    "\n",
    "# OK\n",
    "merged = tf.merge_summary([add_hist, mul_hist])\n",
    "\n",
    "\n",
    "with tf.Session() as sess:\n",
    "    # 변수 초기화\n",
    "    init = tf.initialize_all_variables()\n",
    "    \n",
    "    # 그래프 시작\n",
    "    sess.run(init)\n",
    "\n",
    "    # ----------------------------------------\n",
    "    # step 3: writer를 생성한다.\n",
    "    writer = tf.train.SummaryWriter(\"./logs/test2\", sess.graph_def)\n",
    "\n",
    "    for step in xrange(100):\n",
    "        sess.run(add, feed_dict={X: step * 1.0, Y: 2.0})\n",
    "        \n",
    "        # -------------------------------------------------\n",
    "        # step 4: summary merge와 add_summary()를 실행한다.\n",
    "        summary = sess.run(merged, feed_dict={X: step * 1.0, Y: 2.0})\n",
    "        writer.add_summary(summary, step)\n",
    "\n",
    "print \"done!\""
   ]
  },
  {
   "cell_type": "code",
   "execution_count": null,
   "metadata": {
    "collapsed": true
   },
   "outputs": [],
   "source": []
  }
 ],
 "metadata": {
  "kernelspec": {
   "display_name": "Python 2",
   "language": "python",
   "name": "python2"
  },
  "language_info": {
   "codemirror_mode": {
    "name": "ipython",
    "version": 2
   },
   "file_extension": ".py",
   "mimetype": "text/x-python",
   "name": "python",
   "nbconvert_exporter": "python",
   "pygments_lexer": "ipython2",
   "version": "2.7.11"
  }
 },
 "nbformat": 4,
 "nbformat_minor": 0
}
